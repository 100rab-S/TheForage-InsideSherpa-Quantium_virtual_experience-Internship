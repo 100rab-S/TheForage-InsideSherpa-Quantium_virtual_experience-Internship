{
  "nbformat": 4,
  "nbformat_minor": 0,
  "metadata": {
    "colab": {
      "name": "V0.ipynb",
      "provenance": [],
      "collapsed_sections": [],
      "mount_file_id": "1oOYZLvJ2lvzAuldXgUh8Vgcvj-toH6ip",
      "authorship_tag": "ABX9TyNlB5zV0mixLlCMIgfDG16p",
      "include_colab_link": true
    },
    "kernelspec": {
      "name": "python3",
      "display_name": "Python 3"
    }
  },
  "cells": [
    {
      "cell_type": "markdown",
      "metadata": {
        "id": "view-in-github",
        "colab_type": "text"
      },
      "source": [
        "<a href=\"https://colab.research.google.com/github/100rab-S/TheForage-InsideSherpa-Quantium_virtual_experience-Internship/blob/main/Task-1%20(part-1).ipynb\" target=\"_parent\"><img src=\"https://colab.research.google.com/assets/colab-badge.svg\" alt=\"Open In Colab\"/></a>"
      ]
    },
    {
      "cell_type": "markdown",
      "metadata": {
        "id": "4Cn4Q0SpOMfa"
      },
      "source": [
        "                              QUANTIUM TASK - 1\n",
        "                Data Preparation and Customer Analytics\n",
        "                                Code in Python"
      ]
    },
    {
      "cell_type": "code",
      "metadata": {
        "id": "5Rmz5HKj95Hq"
      },
      "source": [
        "# Importing required libraries and making few changes for stylling.\n",
        "\n",
        "import pandas as pd\n",
        "import numpy as np\n",
        "import matplotlib.pyplot as plt\n",
        "import missingno as msn\n",
        "import seaborn as sns\n",
        "\n",
        "pd.set_option('display.max_rows', None)\n",
        "pd.set_option('display.max_columns', None)\n",
        "\n",
        "plt.style.use('dark_background')\n",
        "plt.rcParams[\"image.cmap\"] = \"Set1\"\n",
        "plt.rcParams['figure.figsize'] = 18, 7\n",
        "# plt.rcParams.keys()"
      ],
      "execution_count": null,
      "outputs": []
    },
    {
      "cell_type": "code",
      "metadata": {
        "id": "WnDZRfoK_AMM"
      },
      "source": [
        "#Read the data\n",
        "\n",
        "purchase = pd.read_csv('/content/drive/My Drive/Quantium Internship/Data/QVI_purchase_behaviour.csv')\n",
        "trans = pd.read_excel('/content/drive/My Drive/Quantium Internship/Data/QVI_transaction_data.xlsx')"
      ],
      "execution_count": null,
      "outputs": []
    },
    {
      "cell_type": "code",
      "metadata": {
        "id": "BE79W4Iq_mFD",
        "outputId": "61a0540b-ed01-4a95-887c-f6d893539d32",
        "colab": {
          "base_uri": "https://localhost:8080/",
          "height": 221
        }
      },
      "source": [
        "print(purchase.shape)\n",
        "purchase.sample(5)"
      ],
      "execution_count": null,
      "outputs": [
        {
          "output_type": "stream",
          "text": [
            "(72637, 3)\n"
          ],
          "name": "stdout"
        },
        {
          "output_type": "execute_result",
          "data": {
            "text/html": [
              "<div>\n",
              "<style scoped>\n",
              "    .dataframe tbody tr th:only-of-type {\n",
              "        vertical-align: middle;\n",
              "    }\n",
              "\n",
              "    .dataframe tbody tr th {\n",
              "        vertical-align: top;\n",
              "    }\n",
              "\n",
              "    .dataframe thead th {\n",
              "        text-align: right;\n",
              "    }\n",
              "</style>\n",
              "<table border=\"1\" class=\"dataframe\">\n",
              "  <thead>\n",
              "    <tr style=\"text-align: right;\">\n",
              "      <th></th>\n",
              "      <th>LYLTY_CARD_NBR</th>\n",
              "      <th>LIFESTAGE</th>\n",
              "      <th>PREMIUM_CUSTOMER</th>\n",
              "    </tr>\n",
              "  </thead>\n",
              "  <tbody>\n",
              "    <tr>\n",
              "      <th>13906</th>\n",
              "      <td>51025</td>\n",
              "      <td>YOUNG SINGLES/COUPLES</td>\n",
              "      <td>Mainstream</td>\n",
              "    </tr>\n",
              "    <tr>\n",
              "      <th>63281</th>\n",
              "      <td>237359</td>\n",
              "      <td>YOUNG SINGLES/COUPLES</td>\n",
              "      <td>Mainstream</td>\n",
              "    </tr>\n",
              "    <tr>\n",
              "      <th>57568</th>\n",
              "      <td>217093</td>\n",
              "      <td>RETIREES</td>\n",
              "      <td>Mainstream</td>\n",
              "    </tr>\n",
              "    <tr>\n",
              "      <th>62975</th>\n",
              "      <td>237048</td>\n",
              "      <td>OLDER SINGLES/COUPLES</td>\n",
              "      <td>Mainstream</td>\n",
              "    </tr>\n",
              "    <tr>\n",
              "      <th>66592</th>\n",
              "      <td>249192</td>\n",
              "      <td>YOUNG SINGLES/COUPLES</td>\n",
              "      <td>Mainstream</td>\n",
              "    </tr>\n",
              "  </tbody>\n",
              "</table>\n",
              "</div>"
            ],
            "text/plain": [
              "       LYLTY_CARD_NBR              LIFESTAGE PREMIUM_CUSTOMER\n",
              "13906           51025  YOUNG SINGLES/COUPLES       Mainstream\n",
              "63281          237359  YOUNG SINGLES/COUPLES       Mainstream\n",
              "57568          217093               RETIREES       Mainstream\n",
              "62975          237048  OLDER SINGLES/COUPLES       Mainstream\n",
              "66592          249192  YOUNG SINGLES/COUPLES       Mainstream"
            ]
          },
          "metadata": {
            "tags": []
          },
          "execution_count": 4
        }
      ]
    },
    {
      "cell_type": "code",
      "metadata": {
        "id": "j2eN7XjP_oXb",
        "outputId": "e64fd644-c484-40a8-b315-aad88fb1bea4",
        "colab": {
          "base_uri": "https://localhost:8080/",
          "height": 390
        }
      },
      "source": [
        "#Statistics for purchase DataFrame\n",
        "\n",
        "purchase.describe(include = 'all')"
      ],
      "execution_count": null,
      "outputs": [
        {
          "output_type": "execute_result",
          "data": {
            "text/html": [
              "<div>\n",
              "<style scoped>\n",
              "    .dataframe tbody tr th:only-of-type {\n",
              "        vertical-align: middle;\n",
              "    }\n",
              "\n",
              "    .dataframe tbody tr th {\n",
              "        vertical-align: top;\n",
              "    }\n",
              "\n",
              "    .dataframe thead th {\n",
              "        text-align: right;\n",
              "    }\n",
              "</style>\n",
              "<table border=\"1\" class=\"dataframe\">\n",
              "  <thead>\n",
              "    <tr style=\"text-align: right;\">\n",
              "      <th></th>\n",
              "      <th>LYLTY_CARD_NBR</th>\n",
              "      <th>LIFESTAGE</th>\n",
              "      <th>PREMIUM_CUSTOMER</th>\n",
              "    </tr>\n",
              "  </thead>\n",
              "  <tbody>\n",
              "    <tr>\n",
              "      <th>count</th>\n",
              "      <td>7.263700e+04</td>\n",
              "      <td>72637</td>\n",
              "      <td>72637</td>\n",
              "    </tr>\n",
              "    <tr>\n",
              "      <th>unique</th>\n",
              "      <td>NaN</td>\n",
              "      <td>7</td>\n",
              "      <td>3</td>\n",
              "    </tr>\n",
              "    <tr>\n",
              "      <th>top</th>\n",
              "      <td>NaN</td>\n",
              "      <td>RETIREES</td>\n",
              "      <td>Mainstream</td>\n",
              "    </tr>\n",
              "    <tr>\n",
              "      <th>freq</th>\n",
              "      <td>NaN</td>\n",
              "      <td>14805</td>\n",
              "      <td>29245</td>\n",
              "    </tr>\n",
              "    <tr>\n",
              "      <th>mean</th>\n",
              "      <td>1.361859e+05</td>\n",
              "      <td>NaN</td>\n",
              "      <td>NaN</td>\n",
              "    </tr>\n",
              "    <tr>\n",
              "      <th>std</th>\n",
              "      <td>8.989293e+04</td>\n",
              "      <td>NaN</td>\n",
              "      <td>NaN</td>\n",
              "    </tr>\n",
              "    <tr>\n",
              "      <th>min</th>\n",
              "      <td>1.000000e+03</td>\n",
              "      <td>NaN</td>\n",
              "      <td>NaN</td>\n",
              "    </tr>\n",
              "    <tr>\n",
              "      <th>25%</th>\n",
              "      <td>6.620200e+04</td>\n",
              "      <td>NaN</td>\n",
              "      <td>NaN</td>\n",
              "    </tr>\n",
              "    <tr>\n",
              "      <th>50%</th>\n",
              "      <td>1.340400e+05</td>\n",
              "      <td>NaN</td>\n",
              "      <td>NaN</td>\n",
              "    </tr>\n",
              "    <tr>\n",
              "      <th>75%</th>\n",
              "      <td>2.033750e+05</td>\n",
              "      <td>NaN</td>\n",
              "      <td>NaN</td>\n",
              "    </tr>\n",
              "    <tr>\n",
              "      <th>max</th>\n",
              "      <td>2.373711e+06</td>\n",
              "      <td>NaN</td>\n",
              "      <td>NaN</td>\n",
              "    </tr>\n",
              "  </tbody>\n",
              "</table>\n",
              "</div>"
            ],
            "text/plain": [
              "        LYLTY_CARD_NBR LIFESTAGE PREMIUM_CUSTOMER\n",
              "count     7.263700e+04     72637            72637\n",
              "unique             NaN         7                3\n",
              "top                NaN  RETIREES       Mainstream\n",
              "freq               NaN     14805            29245\n",
              "mean      1.361859e+05       NaN              NaN\n",
              "std       8.989293e+04       NaN              NaN\n",
              "min       1.000000e+03       NaN              NaN\n",
              "25%       6.620200e+04       NaN              NaN\n",
              "50%       1.340400e+05       NaN              NaN\n",
              "75%       2.033750e+05       NaN              NaN\n",
              "max       2.373711e+06       NaN              NaN"
            ]
          },
          "metadata": {
            "tags": []
          },
          "execution_count": 4
        }
      ]
    },
    {
      "cell_type": "code",
      "metadata": {
        "id": "0VN9w71SD081",
        "outputId": "64b0f190-7cb0-4962-dac1-9b3372c6800e",
        "colab": {
          "base_uri": "https://localhost:8080/"
        }
      },
      "source": [
        "purchase.info()"
      ],
      "execution_count": null,
      "outputs": [
        {
          "output_type": "stream",
          "text": [
            "<class 'pandas.core.frame.DataFrame'>\n",
            "RangeIndex: 72637 entries, 0 to 72636\n",
            "Data columns (total 3 columns):\n",
            " #   Column            Non-Null Count  Dtype \n",
            "---  ------            --------------  ----- \n",
            " 0   LYLTY_CARD_NBR    72637 non-null  int64 \n",
            " 1   LIFESTAGE         72637 non-null  object\n",
            " 2   PREMIUM_CUSTOMER  72637 non-null  object\n",
            "dtypes: int64(1), object(2)\n",
            "memory usage: 1.7+ MB\n"
          ],
          "name": "stdout"
        }
      ]
    },
    {
      "cell_type": "code",
      "metadata": {
        "id": "aS0Vn13W1bR4"
      },
      "source": [
        "# Changed the object dtype to category dtype\n",
        "\n",
        "purchase[['LIFESTAGE', 'PREMIUM_CUSTOMER']] = purchase[['LIFESTAGE', 'PREMIUM_CUSTOMER']].astype('category')"
      ],
      "execution_count": null,
      "outputs": []
    },
    {
      "cell_type": "code",
      "metadata": {
        "id": "RnnZFUSm2cBN",
        "outputId": "4cc299d9-ca4a-4686-af3b-ec82939242ca",
        "colab": {
          "base_uri": "https://localhost:8080/",
          "height": 173
        }
      },
      "source": [
        "check = purchase.copy()      # just to see lylty column if it was a categorical column\n",
        "check['LYLTY_CARD_NBR'] = check['LYLTY_CARD_NBR'].astype('category')\n",
        "display(check.describe(include = 'all', ))\n",
        "del check  "
      ],
      "execution_count": null,
      "outputs": [
        {
          "output_type": "display_data",
          "data": {
            "text/html": [
              "<div>\n",
              "<style scoped>\n",
              "    .dataframe tbody tr th:only-of-type {\n",
              "        vertical-align: middle;\n",
              "    }\n",
              "\n",
              "    .dataframe tbody tr th {\n",
              "        vertical-align: top;\n",
              "    }\n",
              "\n",
              "    .dataframe thead th {\n",
              "        text-align: right;\n",
              "    }\n",
              "</style>\n",
              "<table border=\"1\" class=\"dataframe\">\n",
              "  <thead>\n",
              "    <tr style=\"text-align: right;\">\n",
              "      <th></th>\n",
              "      <th>LYLTY_CARD_NBR</th>\n",
              "      <th>LIFESTAGE</th>\n",
              "      <th>PREMIUM_CUSTOMER</th>\n",
              "    </tr>\n",
              "  </thead>\n",
              "  <tbody>\n",
              "    <tr>\n",
              "      <th>count</th>\n",
              "      <td>72637</td>\n",
              "      <td>72637</td>\n",
              "      <td>72637</td>\n",
              "    </tr>\n",
              "    <tr>\n",
              "      <th>unique</th>\n",
              "      <td>72637</td>\n",
              "      <td>7</td>\n",
              "      <td>3</td>\n",
              "    </tr>\n",
              "    <tr>\n",
              "      <th>top</th>\n",
              "      <td>2373711</td>\n",
              "      <td>RETIREES</td>\n",
              "      <td>Mainstream</td>\n",
              "    </tr>\n",
              "    <tr>\n",
              "      <th>freq</th>\n",
              "      <td>1</td>\n",
              "      <td>14805</td>\n",
              "      <td>29245</td>\n",
              "    </tr>\n",
              "  </tbody>\n",
              "</table>\n",
              "</div>"
            ],
            "text/plain": [
              "        LYLTY_CARD_NBR LIFESTAGE PREMIUM_CUSTOMER\n",
              "count            72637     72637            72637\n",
              "unique           72637         7                3\n",
              "top            2373711  RETIREES       Mainstream\n",
              "freq                 1     14805            29245"
            ]
          },
          "metadata": {
            "tags": []
          }
        }
      ]
    },
    {
      "cell_type": "code",
      "metadata": {
        "id": "L71eGRAoBQaJ",
        "outputId": "fee100ba-aeeb-439e-c307-7d861eb580fe",
        "colab": {
          "base_uri": "https://localhost:8080/"
        }
      },
      "source": [
        "# Number of customers in the purchase dataframe\n",
        "\n",
        "purchase['LYLTY_CARD_NBR'].nunique()"
      ],
      "execution_count": null,
      "outputs": [
        {
          "output_type": "execute_result",
          "data": {
            "text/plain": [
              "72637"
            ]
          },
          "metadata": {
            "tags": []
          },
          "execution_count": 7
        }
      ]
    },
    {
      "cell_type": "markdown",
      "metadata": {
        "id": "QimD5ootRQtv"
      },
      "source": [
        "Therefore there are 72637 customers in the dataframe"
      ]
    },
    {
      "cell_type": "code",
      "metadata": {
        "id": "I9_wcrF4A8bW",
        "outputId": "d0e1ce90-1cbc-48ab-e031-b18620200384",
        "colab": {
          "base_uri": "https://localhost:8080/",
          "height": 428
        }
      },
      "source": [
        "# Graph to show the value counts of Lifestage column in purchase dataframe\n",
        "\n",
        "(purchase['LIFESTAGE'].value_counts(normalize = True) * 100).plot(kind = 'bar')\n",
        "plt.xticks(rotation = 0)\n",
        "plt.show()"
      ],
      "execution_count": null,
      "outputs": [
        {
          "output_type": "display_data",
          "data": {
            "image/png": "[encoded data removed]",
            "text/plain": [
              "<Figure size 1296x504 with 1 Axes>"
            ]
          },
          "metadata": {
            "tags": [],
            "needs_background": "dark"
          }
        }
      ]
    },
    {
      "cell_type": "markdown",
      "metadata": {
        "id": "zUFMjUrhRWZ4"
      },
      "source": [
        "Most of the customers in the dataframe are in Retiress lifestage and the second is Older singles/couples. We can see that elder members have more loyalty cards than other lifestage customers (Maybe there childrens gave them the card for shopping since they might not have a regular income)."
      ]
    },
    {
      "cell_type": "code",
      "metadata": {
        "id": "WE-RRYJnEtZ1",
        "outputId": "c8758523-8263-4865-f4e1-200127ff7a76",
        "colab": {
          "base_uri": "https://localhost:8080/",
          "height": 439
        }
      },
      "source": [
        "# Graph to show the value counts of Premium customer in purchase dataframe\n",
        "\n",
        "(purchase['PREMIUM_CUSTOMER'].value_counts() * 100).plot(kind = 'bar')\n",
        "plt.xticks(rotation = 0)\n",
        "plt.show()"
      ],
      "execution_count": null,
      "outputs": [
        {
          "output_type": "display_data",
          "data": {
            "image/png": "[encoded data removed]",
            "text/plain": [
              "<Figure size 1296x504 with 1 Axes>"
            ]
          },
          "metadata": {
            "tags": [],
            "needs_background": "dark"
          }
        }
      ]
    },
    {
      "cell_type": "markdown",
      "metadata": {
        "id": "daEViV55SwVZ"
      },
      "source": [
        "The customers having loyalty card are most mainstream customers > Budget > Premium"
      ]
    },
    {
      "cell_type": "code",
      "metadata": {
        "id": "J-rPV8KCGwZK",
        "outputId": "34317fe3-c68c-4681-ef88-b9656fa6f03e",
        "colab": {
          "base_uri": "https://localhost:8080/",
          "height": 221
        }
      },
      "source": [
        "print(trans.shape)\n",
        "trans.sample(5)"
      ],
      "execution_count": null,
      "outputs": [
        {
          "output_type": "stream",
          "text": [
            "(264836, 8)\n"
          ],
          "name": "stdout"
        },
        {
          "output_type": "execute_result",
          "data": {
            "text/html": [
              "<div>\n",
              "<style scoped>\n",
              "    .dataframe tbody tr th:only-of-type {\n",
              "        vertical-align: middle;\n",
              "    }\n",
              "\n",
              "    .dataframe tbody tr th {\n",
              "        vertical-align: top;\n",
              "    }\n",
              "\n",
              "    .dataframe thead th {\n",
              "        text-align: right;\n",
              "    }\n",
              "</style>\n",
              "<table border=\"1\" class=\"dataframe\">\n",
              "  <thead>\n",
              "    <tr style=\"text-align: right;\">\n",
              "      <th></th>\n",
              "      <th>DATE</th>\n",
              "      <th>STORE_NBR</th>\n",
              "      <th>LYLTY_CARD_NBR</th>\n",
              "      <th>TXN_ID</th>\n",
              "      <th>PROD_NBR</th>\n",
              "      <th>PROD_NAME</th>\n",
              "      <th>PROD_QTY</th>\n",
              "      <th>TOT_SALES</th>\n",
              "    </tr>\n",
              "  </thead>\n",
              "  <tbody>\n",
              "    <tr>\n",
              "      <th>130195</th>\n",
              "      <td>43289</td>\n",
              "      <td>190</td>\n",
              "      <td>190116</td>\n",
              "      <td>190930</td>\n",
              "      <td>64</td>\n",
              "      <td>Red Rock Deli SR    Salsa &amp; Mzzrlla 150g</td>\n",
              "      <td>2</td>\n",
              "      <td>5.4</td>\n",
              "    </tr>\n",
              "    <tr>\n",
              "      <th>38029</th>\n",
              "      <td>43416</td>\n",
              "      <td>67</td>\n",
              "      <td>67249</td>\n",
              "      <td>65307</td>\n",
              "      <td>37</td>\n",
              "      <td>Smiths Thinly       Swt Chli&amp;S/Cream175G</td>\n",
              "      <td>2</td>\n",
              "      <td>6.0</td>\n",
              "    </tr>\n",
              "    <tr>\n",
              "      <th>240016</th>\n",
              "      <td>43370</td>\n",
              "      <td>20</td>\n",
              "      <td>20422</td>\n",
              "      <td>17424</td>\n",
              "      <td>77</td>\n",
              "      <td>Doritos Corn Chips  Nacho Cheese 170g</td>\n",
              "      <td>2</td>\n",
              "      <td>8.8</td>\n",
              "    </tr>\n",
              "    <tr>\n",
              "      <th>170613</th>\n",
              "      <td>43375</td>\n",
              "      <td>256</td>\n",
              "      <td>256093</td>\n",
              "      <td>255228</td>\n",
              "      <td>13</td>\n",
              "      <td>Red Rock Deli Thai  Chilli&amp;Lime 150g</td>\n",
              "      <td>2</td>\n",
              "      <td>5.4</td>\n",
              "    </tr>\n",
              "    <tr>\n",
              "      <th>262217</th>\n",
              "      <td>43609</td>\n",
              "      <td>163</td>\n",
              "      <td>163150</td>\n",
              "      <td>163441</td>\n",
              "      <td>90</td>\n",
              "      <td>Tostitos Smoked     Chipotle 175g</td>\n",
              "      <td>2</td>\n",
              "      <td>8.8</td>\n",
              "    </tr>\n",
              "  </tbody>\n",
              "</table>\n",
              "</div>"
            ],
            "text/plain": [
              "         DATE  STORE_NBR  LYLTY_CARD_NBR  TXN_ID  PROD_NBR  \\\n",
              "130195  43289        190          190116  190930        64   \n",
              "38029   43416         67           67249   65307        37   \n",
              "240016  43370         20           20422   17424        77   \n",
              "170613  43375        256          256093  255228        13   \n",
              "262217  43609        163          163150  163441        90   \n",
              "\n",
              "                                       PROD_NAME  PROD_QTY  TOT_SALES  \n",
              "130195  Red Rock Deli SR    Salsa & Mzzrlla 150g         2        5.4  \n",
              "38029   Smiths Thinly       Swt Chli&S/Cream175G         2        6.0  \n",
              "240016     Doritos Corn Chips  Nacho Cheese 170g         2        8.8  \n",
              "170613      Red Rock Deli Thai  Chilli&Lime 150g         2        5.4  \n",
              "262217         Tostitos Smoked     Chipotle 175g         2        8.8  "
            ]
          },
          "metadata": {
            "tags": []
          },
          "execution_count": 11
        }
      ]
    },
    {
      "cell_type": "code",
      "metadata": {
        "id": "zkV27oLsHmf-",
        "outputId": "dcc00bb6-0185-42eb-d396-4be2d6ad8d94",
        "colab": {
          "base_uri": "https://localhost:8080/",
          "height": 390
        }
      },
      "source": [
        "# Statistics of transaction dataframe\n",
        "\n",
        "trans.describe(include= 'all')"
      ],
      "execution_count": null,
      "outputs": [
        {
          "output_type": "execute_result",
          "data": {
            "text/html": [
              "<div>\n",
              "<style scoped>\n",
              "    .dataframe tbody tr th:only-of-type {\n",
              "        vertical-align: middle;\n",
              "    }\n",
              "\n",
              "    .dataframe tbody tr th {\n",
              "        vertical-align: top;\n",
              "    }\n",
              "\n",
              "    .dataframe thead th {\n",
              "        text-align: right;\n",
              "    }\n",
              "</style>\n",
              "<table border=\"1\" class=\"dataframe\">\n",
              "  <thead>\n",
              "    <tr style=\"text-align: right;\">\n",
              "      <th></th>\n",
              "      <th>DATE</th>\n",
              "      <th>STORE_NBR</th>\n",
              "      <th>LYLTY_CARD_NBR</th>\n",
              "      <th>TXN_ID</th>\n",
              "      <th>PROD_NBR</th>\n",
              "      <th>PROD_NAME</th>\n",
              "      <th>PROD_QTY</th>\n",
              "      <th>TOT_SALES</th>\n",
              "    </tr>\n",
              "  </thead>\n",
              "  <tbody>\n",
              "    <tr>\n",
              "      <th>count</th>\n",
              "      <td>264836.000000</td>\n",
              "      <td>264836.00000</td>\n",
              "      <td>2.648360e+05</td>\n",
              "      <td>2.648360e+05</td>\n",
              "      <td>264836.000000</td>\n",
              "      <td>264836</td>\n",
              "      <td>264836.000000</td>\n",
              "      <td>264836.000000</td>\n",
              "    </tr>\n",
              "    <tr>\n",
              "      <th>unique</th>\n",
              "      <td>NaN</td>\n",
              "      <td>NaN</td>\n",
              "      <td>NaN</td>\n",
              "      <td>NaN</td>\n",
              "      <td>NaN</td>\n",
              "      <td>114</td>\n",
              "      <td>NaN</td>\n",
              "      <td>NaN</td>\n",
              "    </tr>\n",
              "    <tr>\n",
              "      <th>top</th>\n",
              "      <td>NaN</td>\n",
              "      <td>NaN</td>\n",
              "      <td>NaN</td>\n",
              "      <td>NaN</td>\n",
              "      <td>NaN</td>\n",
              "      <td>Kettle Mozzarella   Basil &amp; Pesto 175g</td>\n",
              "      <td>NaN</td>\n",
              "      <td>NaN</td>\n",
              "    </tr>\n",
              "    <tr>\n",
              "      <th>freq</th>\n",
              "      <td>NaN</td>\n",
              "      <td>NaN</td>\n",
              "      <td>NaN</td>\n",
              "      <td>NaN</td>\n",
              "      <td>NaN</td>\n",
              "      <td>3304</td>\n",
              "      <td>NaN</td>\n",
              "      <td>NaN</td>\n",
              "    </tr>\n",
              "    <tr>\n",
              "      <th>mean</th>\n",
              "      <td>43464.036260</td>\n",
              "      <td>135.08011</td>\n",
              "      <td>1.355495e+05</td>\n",
              "      <td>1.351583e+05</td>\n",
              "      <td>56.583157</td>\n",
              "      <td>NaN</td>\n",
              "      <td>1.907309</td>\n",
              "      <td>7.304200</td>\n",
              "    </tr>\n",
              "    <tr>\n",
              "      <th>std</th>\n",
              "      <td>105.389282</td>\n",
              "      <td>76.78418</td>\n",
              "      <td>8.057998e+04</td>\n",
              "      <td>7.813303e+04</td>\n",
              "      <td>32.826638</td>\n",
              "      <td>NaN</td>\n",
              "      <td>0.643654</td>\n",
              "      <td>3.083226</td>\n",
              "    </tr>\n",
              "    <tr>\n",
              "      <th>min</th>\n",
              "      <td>43282.000000</td>\n",
              "      <td>1.00000</td>\n",
              "      <td>1.000000e+03</td>\n",
              "      <td>1.000000e+00</td>\n",
              "      <td>1.000000</td>\n",
              "      <td>NaN</td>\n",
              "      <td>1.000000</td>\n",
              "      <td>1.500000</td>\n",
              "    </tr>\n",
              "    <tr>\n",
              "      <th>25%</th>\n",
              "      <td>43373.000000</td>\n",
              "      <td>70.00000</td>\n",
              "      <td>7.002100e+04</td>\n",
              "      <td>6.760150e+04</td>\n",
              "      <td>28.000000</td>\n",
              "      <td>NaN</td>\n",
              "      <td>2.000000</td>\n",
              "      <td>5.400000</td>\n",
              "    </tr>\n",
              "    <tr>\n",
              "      <th>50%</th>\n",
              "      <td>43464.000000</td>\n",
              "      <td>130.00000</td>\n",
              "      <td>1.303575e+05</td>\n",
              "      <td>1.351375e+05</td>\n",
              "      <td>56.000000</td>\n",
              "      <td>NaN</td>\n",
              "      <td>2.000000</td>\n",
              "      <td>7.400000</td>\n",
              "    </tr>\n",
              "    <tr>\n",
              "      <th>75%</th>\n",
              "      <td>43555.000000</td>\n",
              "      <td>203.00000</td>\n",
              "      <td>2.030942e+05</td>\n",
              "      <td>2.027012e+05</td>\n",
              "      <td>85.000000</td>\n",
              "      <td>NaN</td>\n",
              "      <td>2.000000</td>\n",
              "      <td>9.200000</td>\n",
              "    </tr>\n",
              "    <tr>\n",
              "      <th>max</th>\n",
              "      <td>43646.000000</td>\n",
              "      <td>272.00000</td>\n",
              "      <td>2.373711e+06</td>\n",
              "      <td>2.415841e+06</td>\n",
              "      <td>114.000000</td>\n",
              "      <td>NaN</td>\n",
              "      <td>200.000000</td>\n",
              "      <td>650.000000</td>\n",
              "    </tr>\n",
              "  </tbody>\n",
              "</table>\n",
              "</div>"
            ],
            "text/plain": [
              "                 DATE     STORE_NBR  LYLTY_CARD_NBR        TXN_ID  \\\n",
              "count   264836.000000  264836.00000    2.648360e+05  2.648360e+05   \n",
              "unique            NaN           NaN             NaN           NaN   \n",
              "top               NaN           NaN             NaN           NaN   \n",
              "freq              NaN           NaN             NaN           NaN   \n",
              "mean     43464.036260     135.08011    1.355495e+05  1.351583e+05   \n",
              "std        105.389282      76.78418    8.057998e+04  7.813303e+04   \n",
              "min      43282.000000       1.00000    1.000000e+03  1.000000e+00   \n",
              "25%      43373.000000      70.00000    7.002100e+04  6.760150e+04   \n",
              "50%      43464.000000     130.00000    1.303575e+05  1.351375e+05   \n",
              "75%      43555.000000     203.00000    2.030942e+05  2.027012e+05   \n",
              "max      43646.000000     272.00000    2.373711e+06  2.415841e+06   \n",
              "\n",
              "             PROD_NBR                               PROD_NAME       PROD_QTY  \\\n",
              "count   264836.000000                                  264836  264836.000000   \n",
              "unique            NaN                                     114            NaN   \n",
              "top               NaN  Kettle Mozzarella   Basil & Pesto 175g            NaN   \n",
              "freq              NaN                                    3304            NaN   \n",
              "mean        56.583157                                     NaN       1.907309   \n",
              "std         32.826638                                     NaN       0.643654   \n",
              "min          1.000000                                     NaN       1.000000   \n",
              "25%         28.000000                                     NaN       2.000000   \n",
              "50%         56.000000                                     NaN       2.000000   \n",
              "75%         85.000000                                     NaN       2.000000   \n",
              "max        114.000000                                     NaN     200.000000   \n",
              "\n",
              "            TOT_SALES  \n",
              "count   264836.000000  \n",
              "unique            NaN  \n",
              "top               NaN  \n",
              "freq              NaN  \n",
              "mean         7.304200  \n",
              "std          3.083226  \n",
              "min          1.500000  \n",
              "25%          5.400000  \n",
              "50%          7.400000  \n",
              "75%          9.200000  \n",
              "max        650.000000  "
            ]
          },
          "metadata": {
            "tags": []
          },
          "execution_count": 15
        }
      ]
    },
    {
      "cell_type": "code",
      "metadata": {
        "id": "2gEdJpHnH3nz",
        "outputId": "5aa03a8d-d7cc-4bab-858f-2948045e5d15",
        "colab": {
          "base_uri": "https://localhost:8080/"
        }
      },
      "source": [
        "trans.info()"
      ],
      "execution_count": null,
      "outputs": [
        {
          "output_type": "stream",
          "text": [
            "<class 'pandas.core.frame.DataFrame'>\n",
            "RangeIndex: 264836 entries, 0 to 264835\n",
            "Data columns (total 8 columns):\n",
            " #   Column          Non-Null Count   Dtype  \n",
            "---  ------          --------------   -----  \n",
            " 0   DATE            264836 non-null  int64  \n",
            " 1   STORE_NBR       264836 non-null  int64  \n",
            " 2   LYLTY_CARD_NBR  264836 non-null  int64  \n",
            " 3   TXN_ID          264836 non-null  int64  \n",
            " 4   PROD_NBR        264836 non-null  int64  \n",
            " 5   PROD_NAME       264836 non-null  object \n",
            " 6   PROD_QTY        264836 non-null  int64  \n",
            " 7   TOT_SALES       264836 non-null  float64\n",
            "dtypes: float64(1), int64(6), object(1)\n",
            "memory usage: 16.2+ MB\n"
          ],
          "name": "stdout"
        }
      ]
    },
    {
      "cell_type": "code",
      "metadata": {
        "id": "D8YWfHUfkkem",
        "outputId": "7708910f-f12d-42e2-f837-8b64c78f84e1",
        "colab": {
          "base_uri": "https://localhost:8080/",
          "height": 204
        }
      },
      "source": [
        "# Code to convert DATE column to datetime dtype\n",
        "\n",
        "import datetime\n",
        "\n",
        "# import pandas as pd\n",
        "\n",
        "# def convert_excel_time(excel_time):\n",
        "#     '''\n",
        "#     converts excel float format to pandas datetime object\n",
        "#     round to '1min' with \n",
        "#     .dt.round('1min') to correct floating point conversion innaccuracy\n",
        "#     '''\n",
        "    \n",
        "#     return pd.to_datetime('1899-12-30') + pd.to_timedelta(excel_time,'D')\n",
        "\n",
        "def xldate_to_datetime(xldate):\n",
        "\ttemp = datetime.datetime(1899, 12, 30)\n",
        "\tdelta = datetime.timedelta(days=xldate)\n",
        "\treturn temp+delta\n",
        "\n",
        "trans['DATE'] = trans['DATE'].apply(xldate_to_datetime)\n",
        "trans.head()"
      ],
      "execution_count": null,
      "outputs": [
        {
          "output_type": "execute_result",
          "data": {
            "text/html": [
              "<div>\n",
              "<style scoped>\n",
              "    .dataframe tbody tr th:only-of-type {\n",
              "        vertical-align: middle;\n",
              "    }\n",
              "\n",
              "    .dataframe tbody tr th {\n",
              "        vertical-align: top;\n",
              "    }\n",
              "\n",
              "    .dataframe thead th {\n",
              "        text-align: right;\n",
              "    }\n",
              "</style>\n",
              "<table border=\"1\" class=\"dataframe\">\n",
              "  <thead>\n",
              "    <tr style=\"text-align: right;\">\n",
              "      <th></th>\n",
              "      <th>DATE</th>\n",
              "      <th>STORE_NBR</th>\n",
              "      <th>LYLTY_CARD_NBR</th>\n",
              "      <th>TXN_ID</th>\n",
              "      <th>PROD_NBR</th>\n",
              "      <th>PROD_NAME</th>\n",
              "      <th>PROD_QTY</th>\n",
              "      <th>TOT_SALES</th>\n",
              "    </tr>\n",
              "  </thead>\n",
              "  <tbody>\n",
              "    <tr>\n",
              "      <th>0</th>\n",
              "      <td>2018-10-17</td>\n",
              "      <td>1</td>\n",
              "      <td>1000</td>\n",
              "      <td>1</td>\n",
              "      <td>5</td>\n",
              "      <td>Natural Chip        Compny SeaSalt175g</td>\n",
              "      <td>2</td>\n",
              "      <td>6.0</td>\n",
              "    </tr>\n",
              "    <tr>\n",
              "      <th>1</th>\n",
              "      <td>2019-05-14</td>\n",
              "      <td>1</td>\n",
              "      <td>1307</td>\n",
              "      <td>348</td>\n",
              "      <td>66</td>\n",
              "      <td>CCs Nacho Cheese    175g</td>\n",
              "      <td>3</td>\n",
              "      <td>6.3</td>\n",
              "    </tr>\n",
              "    <tr>\n",
              "      <th>2</th>\n",
              "      <td>2019-05-20</td>\n",
              "      <td>1</td>\n",
              "      <td>1343</td>\n",
              "      <td>383</td>\n",
              "      <td>61</td>\n",
              "      <td>Smiths Crinkle Cut  Chips Chicken 170g</td>\n",
              "      <td>2</td>\n",
              "      <td>2.9</td>\n",
              "    </tr>\n",
              "    <tr>\n",
              "      <th>3</th>\n",
              "      <td>2018-08-17</td>\n",
              "      <td>2</td>\n",
              "      <td>2373</td>\n",
              "      <td>974</td>\n",
              "      <td>69</td>\n",
              "      <td>Smiths Chip Thinly  S/Cream&amp;Onion 175g</td>\n",
              "      <td>5</td>\n",
              "      <td>15.0</td>\n",
              "    </tr>\n",
              "    <tr>\n",
              "      <th>4</th>\n",
              "      <td>2018-08-18</td>\n",
              "      <td>2</td>\n",
              "      <td>2426</td>\n",
              "      <td>1038</td>\n",
              "      <td>108</td>\n",
              "      <td>Kettle Tortilla ChpsHny&amp;Jlpno Chili 150g</td>\n",
              "      <td>3</td>\n",
              "      <td>13.8</td>\n",
              "    </tr>\n",
              "  </tbody>\n",
              "</table>\n",
              "</div>"
            ],
            "text/plain": [
              "        DATE  STORE_NBR  LYLTY_CARD_NBR  TXN_ID  PROD_NBR  \\\n",
              "0 2018-10-17          1            1000       1         5   \n",
              "1 2019-05-14          1            1307     348        66   \n",
              "2 2019-05-20          1            1343     383        61   \n",
              "3 2018-08-17          2            2373     974        69   \n",
              "4 2018-08-18          2            2426    1038       108   \n",
              "\n",
              "                                  PROD_NAME  PROD_QTY  TOT_SALES  \n",
              "0    Natural Chip        Compny SeaSalt175g         2        6.0  \n",
              "1                  CCs Nacho Cheese    175g         3        6.3  \n",
              "2    Smiths Crinkle Cut  Chips Chicken 170g         2        2.9  \n",
              "3    Smiths Chip Thinly  S/Cream&Onion 175g         5       15.0  \n",
              "4  Kettle Tortilla ChpsHny&Jlpno Chili 150g         3       13.8  "
            ]
          },
          "metadata": {
            "tags": []
          },
          "execution_count": 12
        }
      ]
    },
    {
      "cell_type": "code",
      "metadata": {
        "id": "FpWcH4zbqVa8",
        "outputId": "b8f804af-8d23-435e-bf53-233963397012",
        "colab": {
          "base_uri": "https://localhost:8080/"
        }
      },
      "source": [
        "# Statistics of date column in trans dataframe\n",
        "\n",
        "print(trans['DATE'].dtypes)\n",
        "trans['DATE'].describe()"
      ],
      "execution_count": null,
      "outputs": [
        {
          "output_type": "stream",
          "text": [
            "datetime64[ns]\n"
          ],
          "name": "stdout"
        },
        {
          "output_type": "stream",
          "text": [
            "/usr/local/lib/python3.6/dist-packages/ipykernel_launcher.py:4: FutureWarning: Treating datetime data as categorical rather than numeric in `.describe` is deprecated and will be removed in a future version of pandas. Specify `datetime_is_numeric=True` to silence this warning and adopt the future behavior now.\n",
            "  after removing the cwd from sys.path.\n"
          ],
          "name": "stderr"
        },
        {
          "output_type": "execute_result",
          "data": {
            "text/plain": [
              "count                  264836\n",
              "unique                    364\n",
              "top       2018-12-24 00:00:00\n",
              "freq                      939\n",
              "first     2018-07-01 00:00:00\n",
              "last      2019-06-30 00:00:00\n",
              "Name: DATE, dtype: object"
            ]
          },
          "metadata": {
            "tags": []
          },
          "execution_count": 13
        }
      ]
    },
    {
      "cell_type": "code",
      "metadata": {
        "id": "774nGsYDJheL",
        "outputId": "670f6cd2-d88f-49ad-e497-21817fb4ebaf",
        "colab": {
          "base_uri": "https://localhost:8080/",
          "height": 473
        }
      },
      "source": [
        "# days on which most transactions were done\n",
        "\n",
        "(trans['DATE'].value_counts(normalize = True, ascending = False) * 100).head(10).plot(kind = 'bar', figsize = (22, 8))\n",
        "plt.xticks(rotation = 0)\n",
        "plt.show()"
      ],
      "execution_count": null,
      "outputs": [
        {
          "output_type": "display_data",
          "data": {
            "image/png": "[encoded data removed]",
            "text/plain": [
              "<Figure size 1584x576 with 1 Axes>"
            ]
          },
          "metadata": {
            "tags": [],
            "needs_background": "dark"
          }
        }
      ]
    },
    {
      "cell_type": "markdown",
      "metadata": {
        "id": "0H8xhJxGMi3T"
      },
      "source": [
        " We can clearly see that the most of the transactions are around christmas!"
      ]
    },
    {
      "cell_type": "code",
      "metadata": {
        "id": "8x2avOgs4jys",
        "outputId": "b9c29bf9-bbc6-464b-a6c4-1505f183f47c",
        "colab": {
          "base_uri": "https://localhost:8080/"
        }
      },
      "source": [
        "check = trans['DATE'].nunique()\n",
        "print(f'number of days in the data: {check}')\n",
        "del check"
      ],
      "execution_count": null,
      "outputs": [
        {
          "output_type": "stream",
          "text": [
            "number of days in the data: 364\n"
          ],
          "name": "stdout"
        }
      ]
    },
    {
      "cell_type": "markdown",
      "metadata": {
        "id": "Mwms_7uKUsxN"
      },
      "source": [
        "The dataframe contains 364 days. Therefore we have data of 1 year with one day missing (Maybe a government holiday/strike)"
      ]
    },
    {
      "cell_type": "code",
      "metadata": {
        "id": "F7fMSD1FGADv",
        "outputId": "f5d6d7ec-65d9-48fe-c5e0-426efb9e0114",
        "colab": {
          "base_uri": "https://localhost:8080/"
        }
      },
      "source": [
        "missing_dates = pd.date_range(start = '2018-07-01', end = '2019-06-30').difference(trans['DATE'])\n",
        "print(f'This date is not present in DATE feature: {missing_dates}')"
      ],
      "execution_count": null,
      "outputs": [
        {
          "output_type": "stream",
          "text": [
            "This date is not present in DATE feature: DatetimeIndex(['2018-12-25'], dtype='datetime64[ns]', freq=None)\n"
          ],
          "name": "stdout"
        }
      ]
    },
    {
      "cell_type": "markdown",
      "metadata": {
        "id": "xnzJp1NxUZub"
      },
      "source": [
        "'It is christmas!!. The mall was closed on christmas"
      ]
    },
    {
      "cell_type": "code",
      "metadata": {
        "id": "MtK68YfSVHFF",
        "outputId": "c302ee75-03f5-4051-a644-5fc042ba4c21",
        "colab": {
          "base_uri": "https://localhost:8080/"
        }
      },
      "source": [
        "# Number of stores in the dataframe\n",
        "\n",
        "no_of_stores = trans['STORE_NBR'].nunique()\n",
        "print(f'The dataframe contains {no_of_stores} shops/stores.')"
      ],
      "execution_count": null,
      "outputs": [
        {
          "output_type": "stream",
          "text": [
            "The dataframe contains 272 shops/stores.\n"
          ],
          "name": "stdout"
        }
      ]
    },
    {
      "cell_type": "code",
      "metadata": {
        "id": "nXKeDN5x_eNB"
      },
      "source": [
        "check = sorted(trans['STORE_NBR'].unique())\n",
        "for num in range(min(check), max(check) + 1):\n",
        "    if num in check:\n",
        "         pass\n",
        "    else:\n",
        "        print(f'this store number is not present in data: {num}')"
      ],
      "execution_count": null,
      "outputs": []
    },
    {
      "cell_type": "code",
      "metadata": {
        "id": "hv8CpHtJ7m9S",
        "outputId": "540b6b18-0d73-4354-ac4c-8ed520ce66de",
        "colab": {
          "base_uri": "https://localhost:8080/",
          "height": 428
        }
      },
      "source": [
        "(trans['STORE_NBR'].value_counts() * 100).head(10).plot(kind = 'bar')\n",
        "plt.xticks(rotation = 0)\n",
        "plt.show()"
      ],
      "execution_count": null,
      "outputs": [
        {
          "output_type": "display_data",
          "data": {
            "image/png": "[encoded data removed]",
            "text/plain": [
              "<Figure size 1296x504 with 1 Axes>"
            ]
          },
          "metadata": {
            "tags": [],
            "needs_background": "dark"
          }
        }
      ]
    },
    {
      "cell_type": "markdown",
      "metadata": {
        "id": "AaafXkKJWFT3"
      },
      "source": [
        "The store 226, 88 and 93 has lot of transactions. Must look into it further later, why these shops have so high transaction rate (may be they are on ground floor, or children freindly etc)"
      ]
    },
    {
      "cell_type": "code",
      "metadata": {
        "id": "IOJtDswDuXmy"
      },
      "source": [
        "a = sorted(trans['LYLTY_CARD_NBR'].unique())"
      ],
      "execution_count": null,
      "outputs": []
    },
    {
      "cell_type": "code",
      "metadata": {
        "id": "7F97ZFwWuYVK"
      },
      "source": [
        "b = sorted(purchase['LYLTY_CARD_NBR'].unique())"
      ],
      "execution_count": null,
      "outputs": []
    },
    {
      "cell_type": "code",
      "metadata": {
        "id": "f5rsv8-SuX0z",
        "outputId": "fd0411d8-f789-4bbf-dc35-9b80bab46a83",
        "colab": {
          "base_uri": "https://localhost:8080/"
        }
      },
      "source": [
        "if a == b:\n",
        "    print('Both the dataframes contain same user card numbers')\n",
        "else:\n",
        "    print('There are some users present only in one dataframe')"
      ],
      "execution_count": null,
      "outputs": [
        {
          "output_type": "stream",
          "text": [
            "Both the dataframes contain same user card numbers\n"
          ],
          "name": "stdout"
        }
      ]
    },
    {
      "cell_type": "code",
      "metadata": {
        "id": "eGMPj9aEuXvj",
        "outputId": "2822f667-3a7e-4aac-a568-18361c7c0a23",
        "colab": {
          "base_uri": "https://localhost:8080/"
        }
      },
      "source": [
        "trans['TXN_ID'].nunique()"
      ],
      "execution_count": null,
      "outputs": [
        {
          "output_type": "execute_result",
          "data": {
            "text/plain": [
              "263127"
            ]
          },
          "metadata": {
            "tags": []
          },
          "execution_count": 25
        }
      ]
    },
    {
      "cell_type": "code",
      "metadata": {
        "id": "T-jIzmZlwZ8n",
        "outputId": "ac396769-f4c0-4a52-8fb1-260dba72f7f5",
        "colab": {
          "base_uri": "https://localhost:8080/",
          "height": 428
        }
      },
      "source": [
        "trans['TXN_ID'].value_counts().head(10).plot(kind = 'bar')\n",
        "plt.xticks(rotation = 0)\n",
        "plt.show()"
      ],
      "execution_count": null,
      "outputs": [
        {
          "output_type": "display_data",
          "data": {
            "image/png": "[encoded data removed]",
            "text/plain": [
              "<Figure size 1296x504 with 1 Axes>"
            ]
          },
          "metadata": {
            "tags": [],
            "needs_background": "dark"
          }
        }
      ]
    },
    {
      "cell_type": "code",
      "metadata": {
        "id": "hDsmw4SZ0FTr",
        "outputId": "6dcb6494-a0e0-4826-926e-6d897bc654a7",
        "colab": {
          "base_uri": "https://localhost:8080/"
        }
      },
      "source": [
        "print(trans['PROD_NBR'].nunique())"
      ],
      "execution_count": null,
      "outputs": [
        {
          "output_type": "stream",
          "text": [
            "114\n"
          ],
          "name": "stdout"
        }
      ]
    },
    {
      "cell_type": "markdown",
      "metadata": {
        "id": "AzxTTNBMXJRT"
      },
      "source": [
        "There are 114 different products in the dataframe. "
      ]
    },
    {
      "cell_type": "code",
      "metadata": {
        "id": "s6PvQYs20FFr",
        "outputId": "e365a210-975a-425a-f0a7-1ac5964447ea",
        "colab": {
          "base_uri": "https://localhost:8080/",
          "height": 428
        }
      },
      "source": [
        "trans['PROD_NBR'].plot(kind = 'hist')\n",
        "plt.show()"
      ],
      "execution_count": null,
      "outputs": [
        {
          "output_type": "display_data",
          "data": {
            "image/png": "[encoded data removed]",
            "text/plain": [
              "<Figure size 1296x504 with 1 Axes>"
            ]
          },
          "metadata": {
            "tags": [],
            "needs_background": "dark"
          }
        }
      ]
    },
    {
      "cell_type": "code",
      "metadata": {
        "id": "uCFRQ-Ru6X5H",
        "outputId": "f8a5ee42-0afc-4a25-ce49-ab4434740116",
        "colab": {
          "base_uri": "https://localhost:8080/",
          "height": 428
        }
      },
      "source": [
        "trans['PROD_NBR'].value_counts().head(10).plot(kind = 'bar')\n",
        "plt.xticks(rotation = 0)\n",
        "plt.show()"
      ],
      "execution_count": null,
      "outputs": [
        {
          "output_type": "display_data",
          "data": {
            "image/png": "[encoded data removed]",
            "text/plain": [
              "<Figure size 1296x504 with 1 Axes>"
            ]
          },
          "metadata": {
            "tags": [],
            "needs_background": "dark"
          }
        }
      ]
    },
    {
      "cell_type": "markdown",
      "metadata": {
        "id": "pjG1twgLXdAU"
      },
      "source": [
        "Product 102, 108 and 33 are most sold. The favorite product in the customer segment."
      ]
    },
    {
      "cell_type": "code",
      "metadata": {
        "id": "w9kBUl7u8v75",
        "outputId": "2a5e637a-93a2-4c56-8624-f5d7817f8001",
        "colab": {
          "base_uri": "https://localhost:8080/"
        }
      },
      "source": [
        "trans['PROD_NAME'].nunique()"
      ],
      "execution_count": null,
      "outputs": [
        {
          "output_type": "execute_result",
          "data": {
            "text/plain": [
              "114"
            ]
          },
          "metadata": {
            "tags": []
          },
          "execution_count": 31
        }
      ]
    },
    {
      "cell_type": "code",
      "metadata": {
        "id": "AzV5AT50578l",
        "outputId": "53581a08-512f-436c-c46c-d2a39bd7fc43",
        "colab": {
          "base_uri": "https://localhost:8080/"
        }
      },
      "source": [
        "# top 20 most sold products\n",
        "\n",
        "most_sold_products = trans['PROD_NAME'].value_counts().head(20)\n",
        "most_sold_products"
      ],
      "execution_count": null,
      "outputs": [
        {
          "output_type": "execute_result",
          "data": {
            "text/plain": [
              "Kettle Mozzarella   Basil & Pesto 175g      3304\n",
              "Kettle Tortilla ChpsHny&Jlpno Chili 150g    3296\n",
              "Cobs Popd Swt/Chlli &Sr/Cream Chips 110g    3269\n",
              "Tyrrells Crisps     Ched & Chives 165g      3268\n",
              "Cobs Popd Sea Salt  Chips 110g              3265\n",
              "Kettle 135g Swt Pot Sea Salt                3257\n",
              "Tostitos Splash Of  Lime 175g               3252\n",
              "Infuzions Thai SweetChili PotatoMix 110g    3242\n",
              "Smiths Crnkle Chip  Orgnl Big Bag 380g      3233\n",
              "Thins Potato Chips  Hot & Spicy 175g        3229\n",
              "Kettle Sensations   Camembert & Fig 150g    3219\n",
              "Doritos Corn Chips  Cheese Supreme 170g     3217\n",
              "Pringles Barbeque   134g                    3210\n",
              "Doritos Corn Chip Mexican Jalapeno 150g     3204\n",
              "Kettle Sweet Chilli And Sour Cream 175g     3200\n",
              "Smiths Crinkle Chips Salt & Vinegar 330g    3197\n",
              "Thins Chips Light&  Tangy 175g              3188\n",
              "Dorito Corn Chp     Supreme 380g            3185\n",
              "Pringles Sweet&Spcy BBQ 134g                3177\n",
              "Infuzions BBQ Rib   Prawn Crackers 110g     3174\n",
              "Name: PROD_NAME, dtype: int64"
            ]
          },
          "metadata": {
            "tags": []
          },
          "execution_count": 32
        }
      ]
    },
    {
      "cell_type": "code",
      "metadata": {
        "id": "M2pO7XBwYI0_",
        "outputId": "9918a73e-58b2-4b00-e933-23339d1b930c",
        "colab": {
          "base_uri": "https://localhost:8080/"
        }
      },
      "source": [
        "print(f'The most sold products are {most_sold_products.index.values[0]}, {most_sold_products.index.values[1]}')"
      ],
      "execution_count": null,
      "outputs": [
        {
          "output_type": "stream",
          "text": [
            "The most sold products are Kettle Mozzarella   Basil & Pesto 175g, Kettle Tortilla ChpsHny&Jlpno Chili 150g\n"
          ],
          "name": "stdout"
        }
      ]
    },
    {
      "cell_type": "code",
      "metadata": {
        "id": "iKkf59-bBSq3"
      },
      "source": [
        "# Convert dtype of prod_name from object to category\n",
        "\n",
        "trans['PROD_NAME'] = trans['PROD_NAME'].astype('category')"
      ],
      "execution_count": null,
      "outputs": []
    },
    {
      "cell_type": "code",
      "metadata": {
        "id": "aJMtDKF89DCa",
        "outputId": "296b57aa-5a1b-4e0f-e630-bea4603ffb69",
        "colab": {
          "base_uri": "https://localhost:8080/"
        }
      },
      "source": [
        "print(trans['PROD_QTY'].nunique())\n",
        "print(trans['PROD_QTY'].unique())"
      ],
      "execution_count": null,
      "outputs": [
        {
          "output_type": "stream",
          "text": [
            "6\n",
            "[  2   3   5   1   4 200]\n"
          ],
          "name": "stdout"
        }
      ]
    },
    {
      "cell_type": "code",
      "metadata": {
        "id": "Fax22S7r9C5Y",
        "outputId": "4dbe2f51-3f0f-4f17-c837-87563fca9fba",
        "colab": {
          "base_uri": "https://localhost:8080/",
          "height": 655
        }
      },
      "source": [
        "check = pd.DataFrame(trans['PROD_QTY'].value_counts())\n",
        "check['percentage'] = trans['PROD_QTY'].value_counts(normalize = True) * 100\n",
        "display(check.head(6))\n",
        "check['PROD_QTY'].plot(kind = 'bar')\n",
        "del check"
      ],
      "execution_count": null,
      "outputs": [
        {
          "output_type": "display_data",
          "data": {
            "text/html": [
              "<div>\n",
              "<style scoped>\n",
              "    .dataframe tbody tr th:only-of-type {\n",
              "        vertical-align: middle;\n",
              "    }\n",
              "\n",
              "    .dataframe tbody tr th {\n",
              "        vertical-align: top;\n",
              "    }\n",
              "\n",
              "    .dataframe thead th {\n",
              "        text-align: right;\n",
              "    }\n",
              "</style>\n",
              "<table border=\"1\" class=\"dataframe\">\n",
              "  <thead>\n",
              "    <tr style=\"text-align: right;\">\n",
              "      <th></th>\n",
              "      <th>PROD_QTY</th>\n",
              "      <th>percentage</th>\n",
              "    </tr>\n",
              "  </thead>\n",
              "  <tbody>\n",
              "    <tr>\n",
              "      <th>2</th>\n",
              "      <td>236039</td>\n",
              "      <td>89.126478</td>\n",
              "    </tr>\n",
              "    <tr>\n",
              "      <th>1</th>\n",
              "      <td>27518</td>\n",
              "      <td>10.390581</td>\n",
              "    </tr>\n",
              "    <tr>\n",
              "      <th>5</th>\n",
              "      <td>450</td>\n",
              "      <td>0.169916</td>\n",
              "    </tr>\n",
              "    <tr>\n",
              "      <th>3</th>\n",
              "      <td>430</td>\n",
              "      <td>0.162365</td>\n",
              "    </tr>\n",
              "    <tr>\n",
              "      <th>4</th>\n",
              "      <td>397</td>\n",
              "      <td>0.149904</td>\n",
              "    </tr>\n",
              "    <tr>\n",
              "      <th>200</th>\n",
              "      <td>2</td>\n",
              "      <td>0.000755</td>\n",
              "    </tr>\n",
              "  </tbody>\n",
              "</table>\n",
              "</div>"
            ],
            "text/plain": [
              "     PROD_QTY  percentage\n",
              "2      236039   89.126478\n",
              "1       27518   10.390581\n",
              "5         450    0.169916\n",
              "3         430    0.162365\n",
              "4         397    0.149904\n",
              "200         2    0.000755"
            ]
          },
          "metadata": {
            "tags": []
          }
        },
        {
          "output_type": "display_data",
          "data": {
            "image/png": "[encoded data removed]",
            "text/plain": [
              "<Figure size 1296x504 with 1 Axes>"
            ]
          },
          "metadata": {
            "tags": [],
            "needs_background": "dark"
          }
        }
      ]
    },
    {
      "cell_type": "markdown",
      "metadata": {
        "id": "3l92_AfiY2E6"
      },
      "source": [
        "The customers love to buy 2 packets at once. "
      ]
    },
    {
      "cell_type": "code",
      "metadata": {
        "id": "LahWg6Tn9Cyq",
        "outputId": "63408dd9-3c66-44cd-fe66-08eaa170423e",
        "colab": {
          "base_uri": "https://localhost:8080/",
          "height": 111
        }
      },
      "source": [
        "trans[trans['PROD_QTY'] == 200]  #may be outliers "
      ],
      "execution_count": null,
      "outputs": [
        {
          "output_type": "execute_result",
          "data": {
            "text/html": [
              "<div>\n",
              "<style scoped>\n",
              "    .dataframe tbody tr th:only-of-type {\n",
              "        vertical-align: middle;\n",
              "    }\n",
              "\n",
              "    .dataframe tbody tr th {\n",
              "        vertical-align: top;\n",
              "    }\n",
              "\n",
              "    .dataframe thead th {\n",
              "        text-align: right;\n",
              "    }\n",
              "</style>\n",
              "<table border=\"1\" class=\"dataframe\">\n",
              "  <thead>\n",
              "    <tr style=\"text-align: right;\">\n",
              "      <th></th>\n",
              "      <th>DATE</th>\n",
              "      <th>STORE_NBR</th>\n",
              "      <th>LYLTY_CARD_NBR</th>\n",
              "      <th>TXN_ID</th>\n",
              "      <th>PROD_NBR</th>\n",
              "      <th>PROD_NAME</th>\n",
              "      <th>PROD_QTY</th>\n",
              "      <th>TOT_SALES</th>\n",
              "    </tr>\n",
              "  </thead>\n",
              "  <tbody>\n",
              "    <tr>\n",
              "      <th>69762</th>\n",
              "      <td>2018-08-19</td>\n",
              "      <td>226</td>\n",
              "      <td>226000</td>\n",
              "      <td>226201</td>\n",
              "      <td>4</td>\n",
              "      <td>Dorito Corn Chp     Supreme 380g</td>\n",
              "      <td>200</td>\n",
              "      <td>650.0</td>\n",
              "    </tr>\n",
              "    <tr>\n",
              "      <th>69763</th>\n",
              "      <td>2019-05-20</td>\n",
              "      <td>226</td>\n",
              "      <td>226000</td>\n",
              "      <td>226210</td>\n",
              "      <td>4</td>\n",
              "      <td>Dorito Corn Chp     Supreme 380g</td>\n",
              "      <td>200</td>\n",
              "      <td>650.0</td>\n",
              "    </tr>\n",
              "  </tbody>\n",
              "</table>\n",
              "</div>"
            ],
            "text/plain": [
              "            DATE  STORE_NBR  LYLTY_CARD_NBR  TXN_ID  PROD_NBR  \\\n",
              "69762 2018-08-19        226          226000  226201         4   \n",
              "69763 2019-05-20        226          226000  226210         4   \n",
              "\n",
              "                              PROD_NAME  PROD_QTY  TOT_SALES  \n",
              "69762  Dorito Corn Chp     Supreme 380g       200      650.0  \n",
              "69763  Dorito Corn Chp     Supreme 380g       200      650.0  "
            ]
          },
          "metadata": {
            "tags": []
          },
          "execution_count": 37
        }
      ]
    },
    {
      "cell_type": "code",
      "metadata": {
        "id": "34y1VPyVBemO",
        "outputId": "6025db97-d2bb-41cc-dc5f-ea85605dc3df",
        "colab": {
          "base_uri": "https://localhost:8080/",
          "height": 111
        }
      },
      "source": [
        "trans[trans['LYLTY_CARD_NBR'] == 226000]     #the person who brought outliers"
      ],
      "execution_count": null,
      "outputs": [
        {
          "output_type": "execute_result",
          "data": {
            "text/html": [
              "<div>\n",
              "<style scoped>\n",
              "    .dataframe tbody tr th:only-of-type {\n",
              "        vertical-align: middle;\n",
              "    }\n",
              "\n",
              "    .dataframe tbody tr th {\n",
              "        vertical-align: top;\n",
              "    }\n",
              "\n",
              "    .dataframe thead th {\n",
              "        text-align: right;\n",
              "    }\n",
              "</style>\n",
              "<table border=\"1\" class=\"dataframe\">\n",
              "  <thead>\n",
              "    <tr style=\"text-align: right;\">\n",
              "      <th></th>\n",
              "      <th>DATE</th>\n",
              "      <th>STORE_NBR</th>\n",
              "      <th>LYLTY_CARD_NBR</th>\n",
              "      <th>TXN_ID</th>\n",
              "      <th>PROD_NBR</th>\n",
              "      <th>PROD_NAME</th>\n",
              "      <th>PROD_QTY</th>\n",
              "      <th>TOT_SALES</th>\n",
              "    </tr>\n",
              "  </thead>\n",
              "  <tbody>\n",
              "    <tr>\n",
              "      <th>69762</th>\n",
              "      <td>2018-08-19</td>\n",
              "      <td>226</td>\n",
              "      <td>226000</td>\n",
              "      <td>226201</td>\n",
              "      <td>4</td>\n",
              "      <td>Dorito Corn Chp     Supreme 380g</td>\n",
              "      <td>200</td>\n",
              "      <td>650.0</td>\n",
              "    </tr>\n",
              "    <tr>\n",
              "      <th>69763</th>\n",
              "      <td>2019-05-20</td>\n",
              "      <td>226</td>\n",
              "      <td>226000</td>\n",
              "      <td>226210</td>\n",
              "      <td>4</td>\n",
              "      <td>Dorito Corn Chp     Supreme 380g</td>\n",
              "      <td>200</td>\n",
              "      <td>650.0</td>\n",
              "    </tr>\n",
              "  </tbody>\n",
              "</table>\n",
              "</div>"
            ],
            "text/plain": [
              "            DATE  STORE_NBR  LYLTY_CARD_NBR  TXN_ID  PROD_NBR  \\\n",
              "69762 2018-08-19        226          226000  226201         4   \n",
              "69763 2019-05-20        226          226000  226210         4   \n",
              "\n",
              "                              PROD_NAME  PROD_QTY  TOT_SALES  \n",
              "69762  Dorito Corn Chp     Supreme 380g       200      650.0  \n",
              "69763  Dorito Corn Chp     Supreme 380g       200      650.0  "
            ]
          },
          "metadata": {
            "tags": []
          },
          "execution_count": 38
        }
      ]
    },
    {
      "cell_type": "markdown",
      "metadata": {
        "id": "h7AYK3hF1jXW"
      },
      "source": [
        "The person who brought outliers brought only outliers (he does not have any other transaction in the datset.) He might be a retailer buying in bulk."
      ]
    },
    {
      "cell_type": "code",
      "metadata": {
        "id": "HE2g72sRCP0I"
      },
      "source": [
        ""
      ],
      "execution_count": null,
      "outputs": []
    },
    {
      "cell_type": "code",
      "metadata": {
        "id": "BD_ZW3K6AdIR",
        "outputId": "16e7c4f5-1cda-4c04-b19a-4d62b562aaeb",
        "colab": {
          "base_uri": "https://localhost:8080/"
        }
      },
      "source": [
        "trans['TOT_SALES'].nunique()"
      ],
      "execution_count": null,
      "outputs": [
        {
          "output_type": "execute_result",
          "data": {
            "text/plain": [
              "112"
            ]
          },
          "metadata": {
            "tags": []
          },
          "execution_count": 39
        }
      ]
    },
    {
      "cell_type": "code",
      "metadata": {
        "id": "mlN71bNnEPq4",
        "outputId": "fa9a13d4-8f0e-4b22-8532-5ddbc4493f05",
        "colab": {
          "base_uri": "https://localhost:8080/",
          "height": 221
        }
      },
      "source": [
        "display(trans['TOT_SALES'].value_counts().head(10))\n",
        "print(min(trans['TOT_SALES']), max(trans['TOT_SALES']))"
      ],
      "execution_count": null,
      "outputs": [
        {
          "output_type": "display_data",
          "data": {
            "text/plain": [
              "9.2     22821\n",
              "7.4     22513\n",
              "6.0     20798\n",
              "7.6     20212\n",
              "8.8     19900\n",
              "10.8    17142\n",
              "6.6     13938\n",
              "11.4    11319\n",
              "5.4     10908\n",
              "5.2      8955\n",
              "Name: TOT_SALES, dtype: int64"
            ]
          },
          "metadata": {
            "tags": []
          }
        },
        {
          "output_type": "stream",
          "text": [
            "1.5 650.0\n"
          ],
          "name": "stdout"
        }
      ]
    },
    {
      "cell_type": "markdown",
      "metadata": {
        "id": "eLWFvV6N3gW3"
      },
      "source": [
        "Usually customer buys just 2 or 3 packs of chips from the store."
      ]
    },
    {
      "cell_type": "code",
      "metadata": {
        "id": "asTON732IZTI"
      },
      "source": [
        "(trans['PROD_NAME'].value_counts(normalize = True, ascending = False) * 100).plot(kind = 'barh', figsize = (22,28))"
      ],
      "execution_count": null,
      "outputs": []
    },
    {
      "cell_type": "code",
      "metadata": {
        "id": "XaYmvG3CHJ_2",
        "outputId": "580cf770-e175-4ab0-a004-5fdb38e630c7",
        "colab": {
          "base_uri": "https://localhost:8080/",
          "height": 557
        }
      },
      "source": [
        "df = pd.merge(trans, purchase, on = 'LYLTY_CARD_NBR')\n",
        "display(df.describe(include = 'all'))"
      ],
      "execution_count": null,
      "outputs": [
        {
          "output_type": "stream",
          "text": [
            "/usr/local/lib/python3.6/dist-packages/ipykernel_launcher.py:2: FutureWarning: Treating datetime data as categorical rather than numeric in `.describe` is deprecated and will be removed in a future version of pandas. Specify `datetime_is_numeric=True` to silence this warning and adopt the future behavior now.\n",
            "  \n"
          ],
          "name": "stderr"
        },
        {
          "output_type": "display_data",
          "data": {
            "text/html": [
              "<div>\n",
              "<style scoped>\n",
              "    .dataframe tbody tr th:only-of-type {\n",
              "        vertical-align: middle;\n",
              "    }\n",
              "\n",
              "    .dataframe tbody tr th {\n",
              "        vertical-align: top;\n",
              "    }\n",
              "\n",
              "    .dataframe thead th {\n",
              "        text-align: right;\n",
              "    }\n",
              "</style>\n",
              "<table border=\"1\" class=\"dataframe\">\n",
              "  <thead>\n",
              "    <tr style=\"text-align: right;\">\n",
              "      <th></th>\n",
              "      <th>DATE</th>\n",
              "      <th>STORE_NBR</th>\n",
              "      <th>LYLTY_CARD_NBR</th>\n",
              "      <th>TXN_ID</th>\n",
              "      <th>PROD_NBR</th>\n",
              "      <th>PROD_NAME</th>\n",
              "      <th>PROD_QTY</th>\n",
              "      <th>TOT_SALES</th>\n",
              "      <th>LIFESTAGE</th>\n",
              "      <th>PREMIUM_CUSTOMER</th>\n",
              "    </tr>\n",
              "  </thead>\n",
              "  <tbody>\n",
              "    <tr>\n",
              "      <th>count</th>\n",
              "      <td>264836</td>\n",
              "      <td>264836.00000</td>\n",
              "      <td>2.648360e+05</td>\n",
              "      <td>2.648360e+05</td>\n",
              "      <td>264836.000000</td>\n",
              "      <td>264836</td>\n",
              "      <td>264836.000000</td>\n",
              "      <td>264836.000000</td>\n",
              "      <td>264836</td>\n",
              "      <td>264836</td>\n",
              "    </tr>\n",
              "    <tr>\n",
              "      <th>unique</th>\n",
              "      <td>364</td>\n",
              "      <td>NaN</td>\n",
              "      <td>NaN</td>\n",
              "      <td>NaN</td>\n",
              "      <td>NaN</td>\n",
              "      <td>114</td>\n",
              "      <td>NaN</td>\n",
              "      <td>NaN</td>\n",
              "      <td>7</td>\n",
              "      <td>3</td>\n",
              "    </tr>\n",
              "    <tr>\n",
              "      <th>top</th>\n",
              "      <td>2018-12-24 00:00:00</td>\n",
              "      <td>NaN</td>\n",
              "      <td>NaN</td>\n",
              "      <td>NaN</td>\n",
              "      <td>NaN</td>\n",
              "      <td>Kettle Mozzarella   Basil &amp; Pesto 175g</td>\n",
              "      <td>NaN</td>\n",
              "      <td>NaN</td>\n",
              "      <td>OLDER SINGLES/COUPLES</td>\n",
              "      <td>Mainstream</td>\n",
              "    </tr>\n",
              "    <tr>\n",
              "      <th>freq</th>\n",
              "      <td>939</td>\n",
              "      <td>NaN</td>\n",
              "      <td>NaN</td>\n",
              "      <td>NaN</td>\n",
              "      <td>NaN</td>\n",
              "      <td>3304</td>\n",
              "      <td>NaN</td>\n",
              "      <td>NaN</td>\n",
              "      <td>54479</td>\n",
              "      <td>101988</td>\n",
              "    </tr>\n",
              "    <tr>\n",
              "      <th>first</th>\n",
              "      <td>2018-07-01 00:00:00</td>\n",
              "      <td>NaN</td>\n",
              "      <td>NaN</td>\n",
              "      <td>NaN</td>\n",
              "      <td>NaN</td>\n",
              "      <td>NaN</td>\n",
              "      <td>NaN</td>\n",
              "      <td>NaN</td>\n",
              "      <td>NaN</td>\n",
              "      <td>NaN</td>\n",
              "    </tr>\n",
              "    <tr>\n",
              "      <th>last</th>\n",
              "      <td>2019-06-30 00:00:00</td>\n",
              "      <td>NaN</td>\n",
              "      <td>NaN</td>\n",
              "      <td>NaN</td>\n",
              "      <td>NaN</td>\n",
              "      <td>NaN</td>\n",
              "      <td>NaN</td>\n",
              "      <td>NaN</td>\n",
              "      <td>NaN</td>\n",
              "      <td>NaN</td>\n",
              "    </tr>\n",
              "    <tr>\n",
              "      <th>mean</th>\n",
              "      <td>NaN</td>\n",
              "      <td>135.08011</td>\n",
              "      <td>1.355495e+05</td>\n",
              "      <td>1.351583e+05</td>\n",
              "      <td>56.583157</td>\n",
              "      <td>NaN</td>\n",
              "      <td>1.907309</td>\n",
              "      <td>7.304200</td>\n",
              "      <td>NaN</td>\n",
              "      <td>NaN</td>\n",
              "    </tr>\n",
              "    <tr>\n",
              "      <th>std</th>\n",
              "      <td>NaN</td>\n",
              "      <td>76.78418</td>\n",
              "      <td>8.057998e+04</td>\n",
              "      <td>7.813303e+04</td>\n",
              "      <td>32.826638</td>\n",
              "      <td>NaN</td>\n",
              "      <td>0.643654</td>\n",
              "      <td>3.083226</td>\n",
              "      <td>NaN</td>\n",
              "      <td>NaN</td>\n",
              "    </tr>\n",
              "    <tr>\n",
              "      <th>min</th>\n",
              "      <td>NaN</td>\n",
              "      <td>1.00000</td>\n",
              "      <td>1.000000e+03</td>\n",
              "      <td>1.000000e+00</td>\n",
              "      <td>1.000000</td>\n",
              "      <td>NaN</td>\n",
              "      <td>1.000000</td>\n",
              "      <td>1.500000</td>\n",
              "      <td>NaN</td>\n",
              "      <td>NaN</td>\n",
              "    </tr>\n",
              "    <tr>\n",
              "      <th>25%</th>\n",
              "      <td>NaN</td>\n",
              "      <td>70.00000</td>\n",
              "      <td>7.002100e+04</td>\n",
              "      <td>6.760150e+04</td>\n",
              "      <td>28.000000</td>\n",
              "      <td>NaN</td>\n",
              "      <td>2.000000</td>\n",
              "      <td>5.400000</td>\n",
              "      <td>NaN</td>\n",
              "      <td>NaN</td>\n",
              "    </tr>\n",
              "    <tr>\n",
              "      <th>50%</th>\n",
              "      <td>NaN</td>\n",
              "      <td>130.00000</td>\n",
              "      <td>1.303575e+05</td>\n",
              "      <td>1.351375e+05</td>\n",
              "      <td>56.000000</td>\n",
              "      <td>NaN</td>\n",
              "      <td>2.000000</td>\n",
              "      <td>7.400000</td>\n",
              "      <td>NaN</td>\n",
              "      <td>NaN</td>\n",
              "    </tr>\n",
              "    <tr>\n",
              "      <th>75%</th>\n",
              "      <td>NaN</td>\n",
              "      <td>203.00000</td>\n",
              "      <td>2.030942e+05</td>\n",
              "      <td>2.027012e+05</td>\n",
              "      <td>85.000000</td>\n",
              "      <td>NaN</td>\n",
              "      <td>2.000000</td>\n",
              "      <td>9.200000</td>\n",
              "      <td>NaN</td>\n",
              "      <td>NaN</td>\n",
              "    </tr>\n",
              "    <tr>\n",
              "      <th>max</th>\n",
              "      <td>NaN</td>\n",
              "      <td>272.00000</td>\n",
              "      <td>2.373711e+06</td>\n",
              "      <td>2.415841e+06</td>\n",
              "      <td>114.000000</td>\n",
              "      <td>NaN</td>\n",
              "      <td>200.000000</td>\n",
              "      <td>650.000000</td>\n",
              "      <td>NaN</td>\n",
              "      <td>NaN</td>\n",
              "    </tr>\n",
              "  </tbody>\n",
              "</table>\n",
              "</div>"
            ],
            "text/plain": [
              "                       DATE     STORE_NBR  LYLTY_CARD_NBR        TXN_ID  \\\n",
              "count                264836  264836.00000    2.648360e+05  2.648360e+05   \n",
              "unique                  364           NaN             NaN           NaN   \n",
              "top     2018-12-24 00:00:00           NaN             NaN           NaN   \n",
              "freq                    939           NaN             NaN           NaN   \n",
              "first   2018-07-01 00:00:00           NaN             NaN           NaN   \n",
              "last    2019-06-30 00:00:00           NaN             NaN           NaN   \n",
              "mean                    NaN     135.08011    1.355495e+05  1.351583e+05   \n",
              "std                     NaN      76.78418    8.057998e+04  7.813303e+04   \n",
              "min                     NaN       1.00000    1.000000e+03  1.000000e+00   \n",
              "25%                     NaN      70.00000    7.002100e+04  6.760150e+04   \n",
              "50%                     NaN     130.00000    1.303575e+05  1.351375e+05   \n",
              "75%                     NaN     203.00000    2.030942e+05  2.027012e+05   \n",
              "max                     NaN     272.00000    2.373711e+06  2.415841e+06   \n",
              "\n",
              "             PROD_NBR                               PROD_NAME       PROD_QTY  \\\n",
              "count   264836.000000                                  264836  264836.000000   \n",
              "unique            NaN                                     114            NaN   \n",
              "top               NaN  Kettle Mozzarella   Basil & Pesto 175g            NaN   \n",
              "freq              NaN                                    3304            NaN   \n",
              "first             NaN                                     NaN            NaN   \n",
              "last              NaN                                     NaN            NaN   \n",
              "mean        56.583157                                     NaN       1.907309   \n",
              "std         32.826638                                     NaN       0.643654   \n",
              "min          1.000000                                     NaN       1.000000   \n",
              "25%         28.000000                                     NaN       2.000000   \n",
              "50%         56.000000                                     NaN       2.000000   \n",
              "75%         85.000000                                     NaN       2.000000   \n",
              "max        114.000000                                     NaN     200.000000   \n",
              "\n",
              "            TOT_SALES              LIFESTAGE PREMIUM_CUSTOMER  \n",
              "count   264836.000000                 264836           264836  \n",
              "unique            NaN                      7                3  \n",
              "top               NaN  OLDER SINGLES/COUPLES       Mainstream  \n",
              "freq              NaN                  54479           101988  \n",
              "first             NaN                    NaN              NaN  \n",
              "last              NaN                    NaN              NaN  \n",
              "mean         7.304200                    NaN              NaN  \n",
              "std          3.083226                    NaN              NaN  \n",
              "min          1.500000                    NaN              NaN  \n",
              "25%          5.400000                    NaN              NaN  \n",
              "50%          7.400000                    NaN              NaN  \n",
              "75%          9.200000                    NaN              NaN  \n",
              "max        650.000000                    NaN              NaN  "
            ]
          },
          "metadata": {
            "tags": []
          }
        }
      ]
    },
    {
      "cell_type": "code",
      "metadata": {
        "id": "pWGMkZG5H_Yl",
        "outputId": "a5260e58-e43a-4cba-9618-8e35bac247e7",
        "colab": {
          "base_uri": "https://localhost:8080/"
        }
      },
      "source": [
        "df.info()\n"
      ],
      "execution_count": null,
      "outputs": [
        {
          "output_type": "stream",
          "text": [
            "<class 'pandas.core.frame.DataFrame'>\n",
            "Int64Index: 264836 entries, 0 to 264835\n",
            "Data columns (total 10 columns):\n",
            " #   Column            Non-Null Count   Dtype         \n",
            "---  ------            --------------   -----         \n",
            " 0   DATE              264836 non-null  datetime64[ns]\n",
            " 1   STORE_NBR         264836 non-null  int64         \n",
            " 2   LYLTY_CARD_NBR    264836 non-null  int64         \n",
            " 3   TXN_ID            264836 non-null  int64         \n",
            " 4   PROD_NBR          264836 non-null  int64         \n",
            " 5   PROD_NAME         264836 non-null  category      \n",
            " 6   PROD_QTY          264836 non-null  int64         \n",
            " 7   TOT_SALES         264836 non-null  float64       \n",
            " 8   LIFESTAGE         264836 non-null  category      \n",
            " 9   PREMIUM_CUSTOMER  264836 non-null  category      \n",
            "dtypes: category(3), datetime64[ns](1), float64(1), int64(5)\n",
            "memory usage: 16.9 MB\n"
          ],
          "name": "stdout"
        }
      ]
    },
    {
      "cell_type": "code",
      "metadata": {
        "id": "JPfLWcebFG8U",
        "outputId": "c7e00a9f-edab-42ed-8815-34683c8b98ee",
        "colab": {
          "base_uri": "https://localhost:8080/",
          "height": 428
        }
      },
      "source": [
        "df['LIFESTAGE'].value_counts().plot(kind = 'bar')\n",
        "plt.xticks(rotation = 0)\n",
        "plt.show()"
      ],
      "execution_count": null,
      "outputs": [
        {
          "output_type": "display_data",
          "data": {
            "image/png": "[encoded data removed]",
            "text/plain": [
              "<Figure size 1296x504 with 1 Axes>"
            ]
          },
          "metadata": {
            "tags": [],
            "needs_background": "dark"
          }
        }
      ]
    },
    {
      "cell_type": "code",
      "metadata": {
        "id": "BaQmykr7FQ9E",
        "outputId": "6395ce5e-dc0e-4e33-e942-7fb4d57cab4c",
        "colab": {
          "base_uri": "https://localhost:8080/",
          "height": 428
        }
      },
      "source": [
        "df['PREMIUM_CUSTOMER'].value_counts().plot(kind = 'bar')\n",
        "plt.xticks(rotation = 0)\n",
        "plt.show()"
      ],
      "execution_count": null,
      "outputs": [
        {
          "output_type": "display_data",
          "data": {
            "image/png": "[encoded data removed]",
            "text/plain": [
              "<Figure size 1296x504 with 1 Axes>"
            ]
          },
          "metadata": {
            "tags": [],
            "needs_background": "dark"
          }
        }
      ]
    },
    {
      "cell_type": "code",
      "metadata": {
        "id": "YFp4UsJlGHn8",
        "outputId": "9d20d41f-b385-490c-d6cf-49c4b63cc44a",
        "colab": {
          "base_uri": "https://localhost:8080/"
        }
      },
      "source": [
        "cd /content/drive/My Drive/Quantium Internship/Data"
      ],
      "execution_count": null,
      "outputs": [
        {
          "output_type": "stream",
          "text": [
            "/content/drive/My Drive/Quantium Internship/Data\n"
          ],
          "name": "stdout"
        }
      ]
    },
    {
      "cell_type": "code",
      "metadata": {
        "id": "mKV-OGbUGprq"
      },
      "source": [
        "df.to_csv('df.csv', index = False)"
      ],
      "execution_count": null,
      "outputs": []
    },
    {
      "cell_type": "markdown",
      "metadata": {
        "id": "nDYYpxNQIN0C"
      },
      "source": [
        "In this notebook, I saw both the dataframes and changed few datatypes and later combined both into one dataframe called df on lylty card number."
      ]
    }
  ]
}