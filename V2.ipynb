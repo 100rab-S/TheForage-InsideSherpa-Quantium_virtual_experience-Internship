{
  "nbformat": 4,
  "nbformat_minor": 0,
  "metadata": {
    "colab": {
      "name": "V2.ipynb",
      "provenance": [],
      "collapsed_sections": [],
      "mount_file_id": "10O7ogVRr-DVvRz-YPMOy2SRs1dA50Rmt",
      "authorship_tag": "ABX9TyMK6shhZqvNx9UT/syJ8ugG",
      "include_colab_link": true
    },
    "kernelspec": {
      "display_name": "Python 3",
      "name": "python3"
    }
  },
  "cells": [
    {
      "cell_type": "markdown",
      "metadata": {
        "id": "view-in-github",
        "colab_type": "text"
      },
      "source": [
        "<a href=\"https://colab.research.google.com/github/100rab-S/TheForage-InsideSherpa-Quantium_virtual_experience-Internship/blob/main/V2.ipynb\" target=\"_parent\"><img src=\"https://colab.research.google.com/assets/colab-badge.svg\" alt=\"Open In Colab\"/></a>"
      ]
    },
    {
      "cell_type": "code",
      "metadata": {
        "id": "Rd2aYwjSI70w"
      },
      "source": [
        "import math\n",
        "import pandas as pd\n",
        "import numpy as np\n",
        "import matplotlib.pyplot as plt\n",
        "import seaborn as sns\n",
        "import missingno as msno\n",
        "from scipy import stats\n",
        "from scipy.stats import norm, skew #for some statistics\n",
        "import re\n",
        "\n",
        "pd.set_option('display.max_columns', None)  # to display all rows and columns while printing.\n",
        "pd.set_option('display.max_rows', None)  \n",
        "pd.set_option('display.max_colwidth', -1)\n",
        "\n",
        "params = {'legend.fontsize': '15',\n",
        "         'axes.labelsize': 'x-large',\n",
        "         'axes.titlesize':'x-large',\n",
        "         'xtick.labelsize':'x-large',\n",
        "         'ytick.labelsize':'x-large',\n",
        "         'figure.figsize': (18, 7),\n",
        "         'axes.prop_cycle': plt.cycler(color = plt.cm.Set1.colors),\n",
        "         'image.cmap': 'Set1'}\n",
        "plt.rcParams.update(params)\n",
        "\n",
        "# plt.rcParams[\"image.cmap\"] = \"Set1\"\n",
        "\n",
        "# to change default color cycle\n",
        "# plt.rcParams['axes.prop_cycle'] = plt.cycler(color=plt.cm.Set1.colors)\n",
        "# plt.rcParams['figure.figsize'] = 10, 7"
      ],
      "execution_count": 22,
      "outputs": []
    },
    {
      "cell_type": "code",
      "metadata": {
        "id": "MWAyZX6_bu2u"
      },
      "source": [
        "plt.style.use('dark_background')  # to change the default values of plt to our interest."
      ],
      "execution_count": 3,
      "outputs": []
    },
    {
      "cell_type": "markdown",
      "metadata": {
        "id": "d5MJkHBhMHAX"
      },
      "source": [
        "Read the data."
      ]
    },
    {
      "cell_type": "code",
      "metadata": {
        "id": "8nou6zjfbt3n",
        "outputId": "9030d4cc-7576-46cf-b450-6a7c10d1a4bb",
        "colab": {
          "base_uri": "https://localhost:8080/",
          "height": 306
        }
      },
      "source": [
        "df = pd.read_csv('/content/drive/My Drive/Quantium Internship/Data/df1.csv', parse_dates= ['date'])\n",
        "df.head()"
      ],
      "execution_count": 4,
      "outputs": [
        {
          "output_type": "execute_result",
          "data": {
            "text/html": [
              "<div>\n",
              "<style scoped>\n",
              "    .dataframe tbody tr th:only-of-type {\n",
              "        vertical-align: middle;\n",
              "    }\n",
              "\n",
              "    .dataframe tbody tr th {\n",
              "        vertical-align: top;\n",
              "    }\n",
              "\n",
              "    .dataframe thead th {\n",
              "        text-align: right;\n",
              "    }\n",
              "</style>\n",
              "<table border=\"1\" class=\"dataframe\">\n",
              "  <thead>\n",
              "    <tr style=\"text-align: right;\">\n",
              "      <th></th>\n",
              "      <th>date</th>\n",
              "      <th>store_nbr</th>\n",
              "      <th>lylty_card_nbr</th>\n",
              "      <th>txn_id</th>\n",
              "      <th>prod_nbr</th>\n",
              "      <th>prod_name</th>\n",
              "      <th>prod_qty</th>\n",
              "      <th>tot_sales</th>\n",
              "      <th>lifestage</th>\n",
              "      <th>premium_customer</th>\n",
              "      <th>prod_wt</th>\n",
              "      <th>prod_comp</th>\n",
              "      <th>prod_price</th>\n",
              "    </tr>\n",
              "  </thead>\n",
              "  <tbody>\n",
              "    <tr>\n",
              "      <th>0</th>\n",
              "      <td>2018-10-17</td>\n",
              "      <td>1</td>\n",
              "      <td>1000</td>\n",
              "      <td>1</td>\n",
              "      <td>5</td>\n",
              "      <td>natural_chipco seasalt</td>\n",
              "      <td>2</td>\n",
              "      <td>6.0</td>\n",
              "      <td>YOUNG SINGLES/COUPLES</td>\n",
              "      <td>Premium</td>\n",
              "      <td>175</td>\n",
              "      <td>natural_chipco</td>\n",
              "      <td>3.00</td>\n",
              "    </tr>\n",
              "    <tr>\n",
              "      <th>1</th>\n",
              "      <td>2019-05-14</td>\n",
              "      <td>1</td>\n",
              "      <td>1307</td>\n",
              "      <td>348</td>\n",
              "      <td>66</td>\n",
              "      <td>ccs nacho cheese</td>\n",
              "      <td>3</td>\n",
              "      <td>6.3</td>\n",
              "      <td>MIDAGE SINGLES/COUPLES</td>\n",
              "      <td>Budget</td>\n",
              "      <td>175</td>\n",
              "      <td>ccs</td>\n",
              "      <td>2.10</td>\n",
              "    </tr>\n",
              "    <tr>\n",
              "      <th>2</th>\n",
              "      <td>2018-11-10</td>\n",
              "      <td>1</td>\n",
              "      <td>1307</td>\n",
              "      <td>346</td>\n",
              "      <td>96</td>\n",
              "      <td>ww original stacked chips</td>\n",
              "      <td>2</td>\n",
              "      <td>3.8</td>\n",
              "      <td>MIDAGE SINGLES/COUPLES</td>\n",
              "      <td>Budget</td>\n",
              "      <td>160</td>\n",
              "      <td>ww</td>\n",
              "      <td>1.90</td>\n",
              "    </tr>\n",
              "    <tr>\n",
              "      <th>3</th>\n",
              "      <td>2019-03-09</td>\n",
              "      <td>1</td>\n",
              "      <td>1307</td>\n",
              "      <td>347</td>\n",
              "      <td>54</td>\n",
              "      <td>ccs original</td>\n",
              "      <td>1</td>\n",
              "      <td>2.1</td>\n",
              "      <td>MIDAGE SINGLES/COUPLES</td>\n",
              "      <td>Budget</td>\n",
              "      <td>175</td>\n",
              "      <td>ccs</td>\n",
              "      <td>2.10</td>\n",
              "    </tr>\n",
              "    <tr>\n",
              "      <th>4</th>\n",
              "      <td>2019-05-20</td>\n",
              "      <td>1</td>\n",
              "      <td>1343</td>\n",
              "      <td>383</td>\n",
              "      <td>61</td>\n",
              "      <td>smiths crinkle cut chips chicken</td>\n",
              "      <td>2</td>\n",
              "      <td>2.9</td>\n",
              "      <td>MIDAGE SINGLES/COUPLES</td>\n",
              "      <td>Budget</td>\n",
              "      <td>170</td>\n",
              "      <td>smiths</td>\n",
              "      <td>1.45</td>\n",
              "    </tr>\n",
              "  </tbody>\n",
              "</table>\n",
              "</div>"
            ],
            "text/plain": [
              "        date  store_nbr  lylty_card_nbr  txn_id  prod_nbr  \\\n",
              "0 2018-10-17  1          1000            1       5          \n",
              "1 2019-05-14  1          1307            348     66         \n",
              "2 2018-11-10  1          1307            346     96         \n",
              "3 2019-03-09  1          1307            347     54         \n",
              "4 2019-05-20  1          1343            383     61         \n",
              "\n",
              "                          prod_name  prod_qty  tot_sales  \\\n",
              "0  natural_chipco seasalt            2         6.0         \n",
              "1  ccs nacho cheese                  3         6.3         \n",
              "2  ww original stacked chips         2         3.8         \n",
              "3  ccs original                      1         2.1         \n",
              "4  smiths crinkle cut chips chicken  2         2.9         \n",
              "\n",
              "                lifestage premium_customer  prod_wt       prod_comp  \\\n",
              "0  YOUNG SINGLES/COUPLES   Premium          175      natural_chipco   \n",
              "1  MIDAGE SINGLES/COUPLES  Budget           175      ccs              \n",
              "2  MIDAGE SINGLES/COUPLES  Budget           160      ww               \n",
              "3  MIDAGE SINGLES/COUPLES  Budget           175      ccs              \n",
              "4  MIDAGE SINGLES/COUPLES  Budget           170      smiths           \n",
              "\n",
              "   prod_price  \n",
              "0  3.00        \n",
              "1  2.10        \n",
              "2  1.90        \n",
              "3  2.10        \n",
              "4  1.45        "
            ]
          },
          "metadata": {
            "tags": []
          },
          "execution_count": 4
        }
      ]
    },
    {
      "cell_type": "markdown",
      "metadata": {
        "id": "aP4g5EzFMSJi"
      },
      "source": [
        "Inserted a column 'year_month' in the dataframe."
      ]
    },
    {
      "cell_type": "code",
      "metadata": {
        "id": "a9Ym9AkTcHgh",
        "outputId": "c963cb2e-5b6d-422c-8d82-066d1717b432",
        "colab": {
          "base_uri": "https://localhost:8080/",
          "height": 326
        }
      },
      "source": [
        "df.insert(1, 'year_month',df['date'].dt.to_period('M'))     # .dt.to_period('M')\n",
        "df.head()"
      ],
      "execution_count": 5,
      "outputs": [
        {
          "output_type": "execute_result",
          "data": {
            "text/html": [
              "<div>\n",
              "<style scoped>\n",
              "    .dataframe tbody tr th:only-of-type {\n",
              "        vertical-align: middle;\n",
              "    }\n",
              "\n",
              "    .dataframe tbody tr th {\n",
              "        vertical-align: top;\n",
              "    }\n",
              "\n",
              "    .dataframe thead th {\n",
              "        text-align: right;\n",
              "    }\n",
              "</style>\n",
              "<table border=\"1\" class=\"dataframe\">\n",
              "  <thead>\n",
              "    <tr style=\"text-align: right;\">\n",
              "      <th></th>\n",
              "      <th>date</th>\n",
              "      <th>year_month</th>\n",
              "      <th>store_nbr</th>\n",
              "      <th>lylty_card_nbr</th>\n",
              "      <th>txn_id</th>\n",
              "      <th>prod_nbr</th>\n",
              "      <th>prod_name</th>\n",
              "      <th>prod_qty</th>\n",
              "      <th>tot_sales</th>\n",
              "      <th>lifestage</th>\n",
              "      <th>premium_customer</th>\n",
              "      <th>prod_wt</th>\n",
              "      <th>prod_comp</th>\n",
              "      <th>prod_price</th>\n",
              "    </tr>\n",
              "  </thead>\n",
              "  <tbody>\n",
              "    <tr>\n",
              "      <th>0</th>\n",
              "      <td>2018-10-17</td>\n",
              "      <td>2018-10</td>\n",
              "      <td>1</td>\n",
              "      <td>1000</td>\n",
              "      <td>1</td>\n",
              "      <td>5</td>\n",
              "      <td>natural_chipco seasalt</td>\n",
              "      <td>2</td>\n",
              "      <td>6.0</td>\n",
              "      <td>YOUNG SINGLES/COUPLES</td>\n",
              "      <td>Premium</td>\n",
              "      <td>175</td>\n",
              "      <td>natural_chipco</td>\n",
              "      <td>3.00</td>\n",
              "    </tr>\n",
              "    <tr>\n",
              "      <th>1</th>\n",
              "      <td>2019-05-14</td>\n",
              "      <td>2019-05</td>\n",
              "      <td>1</td>\n",
              "      <td>1307</td>\n",
              "      <td>348</td>\n",
              "      <td>66</td>\n",
              "      <td>ccs nacho cheese</td>\n",
              "      <td>3</td>\n",
              "      <td>6.3</td>\n",
              "      <td>MIDAGE SINGLES/COUPLES</td>\n",
              "      <td>Budget</td>\n",
              "      <td>175</td>\n",
              "      <td>ccs</td>\n",
              "      <td>2.10</td>\n",
              "    </tr>\n",
              "    <tr>\n",
              "      <th>2</th>\n",
              "      <td>2018-11-10</td>\n",
              "      <td>2018-11</td>\n",
              "      <td>1</td>\n",
              "      <td>1307</td>\n",
              "      <td>346</td>\n",
              "      <td>96</td>\n",
              "      <td>ww original stacked chips</td>\n",
              "      <td>2</td>\n",
              "      <td>3.8</td>\n",
              "      <td>MIDAGE SINGLES/COUPLES</td>\n",
              "      <td>Budget</td>\n",
              "      <td>160</td>\n",
              "      <td>ww</td>\n",
              "      <td>1.90</td>\n",
              "    </tr>\n",
              "    <tr>\n",
              "      <th>3</th>\n",
              "      <td>2019-03-09</td>\n",
              "      <td>2019-03</td>\n",
              "      <td>1</td>\n",
              "      <td>1307</td>\n",
              "      <td>347</td>\n",
              "      <td>54</td>\n",
              "      <td>ccs original</td>\n",
              "      <td>1</td>\n",
              "      <td>2.1</td>\n",
              "      <td>MIDAGE SINGLES/COUPLES</td>\n",
              "      <td>Budget</td>\n",
              "      <td>175</td>\n",
              "      <td>ccs</td>\n",
              "      <td>2.10</td>\n",
              "    </tr>\n",
              "    <tr>\n",
              "      <th>4</th>\n",
              "      <td>2019-05-20</td>\n",
              "      <td>2019-05</td>\n",
              "      <td>1</td>\n",
              "      <td>1343</td>\n",
              "      <td>383</td>\n",
              "      <td>61</td>\n",
              "      <td>smiths crinkle cut chips chicken</td>\n",
              "      <td>2</td>\n",
              "      <td>2.9</td>\n",
              "      <td>MIDAGE SINGLES/COUPLES</td>\n",
              "      <td>Budget</td>\n",
              "      <td>170</td>\n",
              "      <td>smiths</td>\n",
              "      <td>1.45</td>\n",
              "    </tr>\n",
              "  </tbody>\n",
              "</table>\n",
              "</div>"
            ],
            "text/plain": [
              "        date year_month  store_nbr  lylty_card_nbr  txn_id  prod_nbr  \\\n",
              "0 2018-10-17  2018-10    1          1000            1       5          \n",
              "1 2019-05-14  2019-05    1          1307            348     66         \n",
              "2 2018-11-10  2018-11    1          1307            346     96         \n",
              "3 2019-03-09  2019-03    1          1307            347     54         \n",
              "4 2019-05-20  2019-05    1          1343            383     61         \n",
              "\n",
              "                          prod_name  prod_qty  tot_sales  \\\n",
              "0  natural_chipco seasalt            2         6.0         \n",
              "1  ccs nacho cheese                  3         6.3         \n",
              "2  ww original stacked chips         2         3.8         \n",
              "3  ccs original                      1         2.1         \n",
              "4  smiths crinkle cut chips chicken  2         2.9         \n",
              "\n",
              "                lifestage premium_customer  prod_wt       prod_comp  \\\n",
              "0  YOUNG SINGLES/COUPLES   Premium          175      natural_chipco   \n",
              "1  MIDAGE SINGLES/COUPLES  Budget           175      ccs              \n",
              "2  MIDAGE SINGLES/COUPLES  Budget           160      ww               \n",
              "3  MIDAGE SINGLES/COUPLES  Budget           175      ccs              \n",
              "4  MIDAGE SINGLES/COUPLES  Budget           170      smiths           \n",
              "\n",
              "   prod_price  \n",
              "0  3.00        \n",
              "1  2.10        \n",
              "2  1.90        \n",
              "3  2.10        \n",
              "4  1.45        "
            ]
          },
          "metadata": {
            "tags": []
          },
          "execution_count": 5
        }
      ]
    },
    {
      "cell_type": "markdown",
      "metadata": {
        "id": "7YaX9UdQPfOV"
      },
      "source": [
        "We have changed dtypes for simplicity  and easier operations."
      ]
    },
    {
      "cell_type": "code",
      "metadata": {
        "id": "wZvXsVucJCn9",
        "outputId": "a80fd945-6fa6-4bfb-ecd4-16fd118ef2e2",
        "colab": {
          "base_uri": "https://localhost:8080/"
        }
      },
      "source": [
        "cols_with_changed_dtype = {'prod_name': 'category', 'prod_qty': 'category',\n",
        "                           'lifestage': 'category', 'premium_customer': 'category',\n",
        "                           'prod_comp': 'category'}\n",
        "df = df.astype(cols_with_changed_dtype)\n",
        "df.info()"
      ],
      "execution_count": 6,
      "outputs": [
        {
          "output_type": "stream",
          "text": [
            "<class 'pandas.core.frame.DataFrame'>\n",
            "RangeIndex: 249668 entries, 0 to 249667\n",
            "Data columns (total 14 columns):\n",
            " #   Column            Non-Null Count   Dtype         \n",
            "---  ------            --------------   -----         \n",
            " 0   date              249668 non-null  datetime64[ns]\n",
            " 1   year_month        249668 non-null  period[M]     \n",
            " 2   store_nbr         249668 non-null  int64         \n",
            " 3   lylty_card_nbr    249668 non-null  int64         \n",
            " 4   txn_id            249668 non-null  int64         \n",
            " 5   prod_nbr          249668 non-null  int64         \n",
            " 6   prod_name         249668 non-null  category      \n",
            " 7   prod_qty          249668 non-null  category      \n",
            " 8   tot_sales         249668 non-null  float64       \n",
            " 9   lifestage         249668 non-null  category      \n",
            " 10  premium_customer  249668 non-null  category      \n",
            " 11  prod_wt           249668 non-null  int64         \n",
            " 12  prod_comp         249668 non-null  category      \n",
            " 13  prod_price        249668 non-null  float64       \n",
            "dtypes: category(5), datetime64[ns](1), float64(2), int64(5), period[M](1)\n",
            "memory usage: 18.3 MB\n"
          ],
          "name": "stdout"
        }
      ]
    },
    {
      "cell_type": "markdown",
      "metadata": {
        "id": "ZI4z7EjhRlVi"
      },
      "source": [
        "We'll remove the stores which does not contain transaction data of all 12 months."
      ]
    },
    {
      "cell_type": "code",
      "metadata": {
        "id": "wImQH4RHfYB3",
        "outputId": "5b4d583b-24bc-47d0-d39d-c5eacb92a05f",
        "colab": {
          "base_uri": "https://localhost:8080/",
          "height": 272
        }
      },
      "source": [
        "check = df.groupby('store_nbr')['year_month'].nunique()\n",
        "check = check[check != 12]\n",
        "print('Stores with less than 12 month transaction data:')\n",
        "display(check)\n",
        "stores_with_less_than_12_months = check.index.to_list()\n",
        "del check"
      ],
      "execution_count": 7,
      "outputs": [
        {
          "output_type": "stream",
          "text": [
            "Stores with less than 12 month transaction data:\n"
          ],
          "name": "stdout"
        },
        {
          "output_type": "display_data",
          "data": {
            "text/plain": [
              "store_nbr\n",
              "11     2 \n",
              "31     2 \n",
              "44     11\n",
              "76     1 \n",
              "85     1 \n",
              "92     1 \n",
              "117    11\n",
              "177    11\n",
              "193    3 \n",
              "206    2 \n",
              "218    11\n",
              "252    2 \n",
              "Name: year_month, dtype: int64"
            ]
          },
          "metadata": {
            "tags": []
          }
        }
      ]
    },
    {
      "cell_type": "code",
      "metadata": {
        "id": "H7d_xx6KP0tW",
        "outputId": "cfafcaaf-2956-4196-c788-a2b8ffa77b86",
        "colab": {
          "base_uri": "https://localhost:8080/"
        }
      },
      "source": [
        "indices_to_drop = df[df['store_nbr'].isin(stores_with_less_than_12_months)].index\n",
        "print(f'Shape before dropping: {df.shape}\\n')\n",
        "df = df.drop(indices_to_drop)\n",
        "print(f'Shape after dropping: {df.shape}\\n')\n",
        "print(f'Number of samples that are dropped: {len(indices_to_drop)}')"
      ],
      "execution_count": 8,
      "outputs": [
        {
          "output_type": "stream",
          "text": [
            "Shape before dropping: (249668, 14)\n",
            "\n",
            "Shape after dropping: (249441, 14)\n",
            "\n",
            "Number of samples that are dropped: 227\n"
          ],
          "name": "stdout"
        }
      ]
    },
    {
      "cell_type": "code",
      "metadata": {
        "id": "W-sVUghHZMZ5"
      },
      "source": [
        "plt.rcParams.keys()"
      ],
      "execution_count": null,
      "outputs": []
    },
    {
      "cell_type": "code",
      "metadata": {
        "id": "-bmWlKJUZizx"
      },
      "source": [
        ""
      ],
      "execution_count": 12,
      "outputs": []
    },
    {
      "cell_type": "code",
      "metadata": {
        "id": "sswvXVKLq3ls",
        "outputId": "38a73198-e12e-47d4-cd48-5b4c7336c1d9",
        "colab": {
          "base_uri": "https://localhost:8080/",
          "height": 644
        }
      },
      "source": [
        "check = df[df['store_nbr'].isin([77, 86, 88])].groupby(['store_nbr', 'year_month'])['tot_sales'].sum() # code to plot\n",
        "colors = []\n",
        "for store, month in check.index:\n",
        "    if store == 77:\n",
        "        colors.append('b')\n",
        "    elif store == 86:\n",
        "        colors.append('g')\n",
        "    else:\n",
        "        colors.append('r')\n",
        "\n",
        "check.plot(kind = 'bar', color = colors, figsize = (20, 9))\n",
        "plt.show()\n",
        "del check, colors"
      ],
      "execution_count": 9,
      "outputs": [
        {
          "output_type": "display_data",
          "data": {
            "image/png": "[encoded data removed]",
            "text/plain": [
              "<Figure size 1440x648 with 1 Axes>"
            ]
          },
          "metadata": {
            "tags": []
          }
        }
      ]
    },
    {
      "cell_type": "code",
      "metadata": {
        "id": "5sWrtrMxKzCk"
      },
      "source": [
        "df['yearly_sale'] = df.groupby('store_nbr')['tot_sales'].transform('sum')\n",
        "df['yearly_custs'] = df.groupby('store_nbr')['lylty_card_nbr'].transform('nunique')\n",
        "df['monthly_sale'] = df.groupby(['store_nbr', 'year_month'])['tot_sales'].transform('sum')\n",
        "df['monthly_custs'] = df.groupby(['store_nbr', 'year_month'])['lylty_card_nbr'].transform('nunique')\n",
        "# df['monthly_txn'] = df.groupby(['store_nbr', 'year_month'])['txn_id'].agg({'txn_id': 'nunique'})"
      ],
      "execution_count": 10,
      "outputs": []
    },
    {
      "cell_type": "code",
      "metadata": {
        "id": "kAzbKH3abb7T"
      },
      "source": [
        "# df1 = df.copy()\n",
        "# data = df.groupby(['store_nbr', 'month']).apply(lambda subdf: subdf['lylty_card_nbr'].count())\n",
        "# # data['count'] = df.groupby(['store_nbr', 'month']).apply(lambda subdf: subdf['lylty_card_nbr'].count())\n",
        "# data.head(25)"
      ],
      "execution_count": 11,
      "outputs": []
    },
    {
      "cell_type": "markdown",
      "metadata": {
        "id": "vqwlyv8pI_Lk"
      },
      "source": [
        "I need to add another column: average transaction per customer in the store."
      ]
    },
    {
      "cell_type": "code",
      "metadata": {
        "id": "wuSLO4ukRLtP"
      },
      "source": [
        "avg_trans = df.groupby('store_nbr').apply(lambda subdf: (subdf['txn_id'].nunique() / subdf['yearly_custs'].unique()))\n",
        "avg_trans = avg_trans.astype('float64')\n",
        "df['avg_txn_per_cust'] = df['store_nbr'].map(avg_trans)"
      ],
      "execution_count": 12,
      "outputs": []
    },
    {
      "cell_type": "code",
      "metadata": {
        "id": "X88chltDTA4q",
        "outputId": "9be570aa-51e3-4a11-bb30-57be9fb2420c",
        "colab": {
          "base_uri": "https://localhost:8080/"
        }
      },
      "source": [
        "# store_272 = df1.groupby('store_nbr').get_group(272)\n",
        "# no_of_customers = store_272['no_of_custs'].unique()\n",
        "# no_of_transactions = store_272['txn_id'].nunique()\n",
        "# print(f'no of customers: {no_of_customers}')\n",
        "# print(f'no of transactions: {no_of_transactions}')\n",
        "# print((no_of_transactions / no_of_customers).round(4))"
      ],
      "execution_count": null,
      "outputs": [
        {
          "output_type": "stream",
          "text": [
            "no of customers: [282]\n",
            "no of transactions: 535\n",
            "[1.8972]\n"
          ],
          "name": "stdout"
        }
      ]
    },
    {
      "cell_type": "code",
      "metadata": {
        "id": "NyOGV7EOZ--a",
        "outputId": "8aaa6392-cfc2-4df7-dc78-a23d53e98004",
        "colab": {
          "base_uri": "https://localhost:8080/",
          "height": 326
        }
      },
      "source": [
        "df.head()"
      ],
      "execution_count": 13,
      "outputs": [
        {
          "output_type": "execute_result",
          "data": {
            "text/html": [
              "<div>\n",
              "<style scoped>\n",
              "    .dataframe tbody tr th:only-of-type {\n",
              "        vertical-align: middle;\n",
              "    }\n",
              "\n",
              "    .dataframe tbody tr th {\n",
              "        vertical-align: top;\n",
              "    }\n",
              "\n",
              "    .dataframe thead th {\n",
              "        text-align: right;\n",
              "    }\n",
              "</style>\n",
              "<table border=\"1\" class=\"dataframe\">\n",
              "  <thead>\n",
              "    <tr style=\"text-align: right;\">\n",
              "      <th></th>\n",
              "      <th>date</th>\n",
              "      <th>year_month</th>\n",
              "      <th>store_nbr</th>\n",
              "      <th>lylty_card_nbr</th>\n",
              "      <th>txn_id</th>\n",
              "      <th>prod_nbr</th>\n",
              "      <th>prod_name</th>\n",
              "      <th>prod_qty</th>\n",
              "      <th>tot_sales</th>\n",
              "      <th>lifestage</th>\n",
              "      <th>premium_customer</th>\n",
              "      <th>prod_wt</th>\n",
              "      <th>prod_comp</th>\n",
              "      <th>prod_price</th>\n",
              "      <th>yearly_sale</th>\n",
              "      <th>yearly_custs</th>\n",
              "      <th>monthly_sale</th>\n",
              "      <th>monthly_custs</th>\n",
              "      <th>avg_txn_per_cust</th>\n",
              "    </tr>\n",
              "  </thead>\n",
              "  <tbody>\n",
              "    <tr>\n",
              "      <th>0</th>\n",
              "      <td>2018-10-17</td>\n",
              "      <td>2018-10</td>\n",
              "      <td>1</td>\n",
              "      <td>1000</td>\n",
              "      <td>1</td>\n",
              "      <td>5</td>\n",
              "      <td>natural_chipco seasalt</td>\n",
              "      <td>2</td>\n",
              "      <td>6.0</td>\n",
              "      <td>YOUNG SINGLES/COUPLES</td>\n",
              "      <td>Premium</td>\n",
              "      <td>175</td>\n",
              "      <td>natural_chipco</td>\n",
              "      <td>3.00</td>\n",
              "      <td>2237.3</td>\n",
              "      <td>335</td>\n",
              "      <td>178.0</td>\n",
              "      <td>40</td>\n",
              "      <td>1.608955</td>\n",
              "    </tr>\n",
              "    <tr>\n",
              "      <th>1</th>\n",
              "      <td>2019-05-14</td>\n",
              "      <td>2019-05</td>\n",
              "      <td>1</td>\n",
              "      <td>1307</td>\n",
              "      <td>348</td>\n",
              "      <td>66</td>\n",
              "      <td>ccs nacho cheese</td>\n",
              "      <td>3</td>\n",
              "      <td>6.3</td>\n",
              "      <td>MIDAGE SINGLES/COUPLES</td>\n",
              "      <td>Budget</td>\n",
              "      <td>175</td>\n",
              "      <td>ccs</td>\n",
              "      <td>2.10</td>\n",
              "      <td>2237.3</td>\n",
              "      <td>335</td>\n",
              "      <td>207.1</td>\n",
              "      <td>43</td>\n",
              "      <td>1.608955</td>\n",
              "    </tr>\n",
              "    <tr>\n",
              "      <th>2</th>\n",
              "      <td>2018-11-10</td>\n",
              "      <td>2018-11</td>\n",
              "      <td>1</td>\n",
              "      <td>1307</td>\n",
              "      <td>346</td>\n",
              "      <td>96</td>\n",
              "      <td>ww original stacked chips</td>\n",
              "      <td>2</td>\n",
              "      <td>3.8</td>\n",
              "      <td>MIDAGE SINGLES/COUPLES</td>\n",
              "      <td>Budget</td>\n",
              "      <td>160</td>\n",
              "      <td>ww</td>\n",
              "      <td>1.90</td>\n",
              "      <td>2237.3</td>\n",
              "      <td>335</td>\n",
              "      <td>187.5</td>\n",
              "      <td>45</td>\n",
              "      <td>1.608955</td>\n",
              "    </tr>\n",
              "    <tr>\n",
              "      <th>3</th>\n",
              "      <td>2019-03-09</td>\n",
              "      <td>2019-03</td>\n",
              "      <td>1</td>\n",
              "      <td>1307</td>\n",
              "      <td>347</td>\n",
              "      <td>54</td>\n",
              "      <td>ccs original</td>\n",
              "      <td>1</td>\n",
              "      <td>2.1</td>\n",
              "      <td>MIDAGE SINGLES/COUPLES</td>\n",
              "      <td>Budget</td>\n",
              "      <td>175</td>\n",
              "      <td>ccs</td>\n",
              "      <td>2.10</td>\n",
              "      <td>2237.3</td>\n",
              "      <td>335</td>\n",
              "      <td>185.2</td>\n",
              "      <td>43</td>\n",
              "      <td>1.608955</td>\n",
              "    </tr>\n",
              "    <tr>\n",
              "      <th>4</th>\n",
              "      <td>2019-05-20</td>\n",
              "      <td>2019-05</td>\n",
              "      <td>1</td>\n",
              "      <td>1343</td>\n",
              "      <td>383</td>\n",
              "      <td>61</td>\n",
              "      <td>smiths crinkle cut chips chicken</td>\n",
              "      <td>2</td>\n",
              "      <td>2.9</td>\n",
              "      <td>MIDAGE SINGLES/COUPLES</td>\n",
              "      <td>Budget</td>\n",
              "      <td>170</td>\n",
              "      <td>smiths</td>\n",
              "      <td>1.45</td>\n",
              "      <td>2237.3</td>\n",
              "      <td>335</td>\n",
              "      <td>207.1</td>\n",
              "      <td>43</td>\n",
              "      <td>1.608955</td>\n",
              "    </tr>\n",
              "  </tbody>\n",
              "</table>\n",
              "</div>"
            ],
            "text/plain": [
              "        date year_month  store_nbr  lylty_card_nbr  txn_id  prod_nbr  \\\n",
              "0 2018-10-17  2018-10    1          1000            1       5          \n",
              "1 2019-05-14  2019-05    1          1307            348     66         \n",
              "2 2018-11-10  2018-11    1          1307            346     96         \n",
              "3 2019-03-09  2019-03    1          1307            347     54         \n",
              "4 2019-05-20  2019-05    1          1343            383     61         \n",
              "\n",
              "                          prod_name prod_qty  tot_sales  \\\n",
              "0  natural_chipco seasalt            2        6.0         \n",
              "1  ccs nacho cheese                  3        6.3         \n",
              "2  ww original stacked chips         2        3.8         \n",
              "3  ccs original                      1        2.1         \n",
              "4  smiths crinkle cut chips chicken  2        2.9         \n",
              "\n",
              "                lifestage premium_customer  prod_wt       prod_comp  \\\n",
              "0  YOUNG SINGLES/COUPLES   Premium          175      natural_chipco   \n",
              "1  MIDAGE SINGLES/COUPLES  Budget           175      ccs              \n",
              "2  MIDAGE SINGLES/COUPLES  Budget           160      ww               \n",
              "3  MIDAGE SINGLES/COUPLES  Budget           175      ccs              \n",
              "4  MIDAGE SINGLES/COUPLES  Budget           170      smiths           \n",
              "\n",
              "   prod_price  yearly_sale  yearly_custs  monthly_sale  monthly_custs  \\\n",
              "0  3.00        2237.3       335           178.0         40              \n",
              "1  2.10        2237.3       335           207.1         43              \n",
              "2  1.90        2237.3       335           187.5         45              \n",
              "3  2.10        2237.3       335           185.2         43              \n",
              "4  1.45        2237.3       335           207.1         43              \n",
              "\n",
              "   avg_txn_per_cust  \n",
              "0  1.608955          \n",
              "1  1.608955          \n",
              "2  1.608955          \n",
              "3  1.608955          \n",
              "4  1.608955          "
            ]
          },
          "metadata": {
            "tags": []
          },
          "execution_count": 13
        }
      ]
    },
    {
      "cell_type": "markdown",
      "metadata": {
        "id": "Wvd_MinSzx2U"
      },
      "source": [
        "\"pre_df\" is the dataset which contains samples only before the trial period."
      ]
    },
    {
      "cell_type": "code",
      "metadata": {
        "id": "mMT-WXN-mQbr"
      },
      "source": [
        "pre_df = df[df['date'] < \"2019-02-01\"]"
      ],
      "execution_count": 14,
      "outputs": []
    },
    {
      "cell_type": "code",
      "metadata": {
        "id": "8lLC6rotT4BN",
        "outputId": "d151ea47-92e2-4d3a-c5b0-3a429679cb69",
        "colab": {
          "base_uri": "https://localhost:8080/"
        }
      },
      "source": [
        "print(min(pre_df['date']), max(pre_df['date']))"
      ],
      "execution_count": 15,
      "outputs": [
        {
          "output_type": "stream",
          "text": [
            "2018-07-01 00:00:00 2019-01-31 00:00:00\n"
          ],
          "name": "stdout"
        }
      ]
    },
    {
      "cell_type": "code",
      "metadata": {
        "id": "YN4fkfVaZ0Ut",
        "outputId": "11cefb96-4827-4926-f26f-3f0fd25bcf57",
        "colab": {
          "base_uri": "https://localhost:8080/",
          "height": 818
        }
      },
      "source": [
        "corrmat = pre_df.corr()\n",
        "mask = np.triu(np.ones_like(corrmat, dtype=bool))\n",
        "plt.subplots(figsize = (25, 15))\n",
        "sns.heatmap(corrmat, mask = mask, cmap = 'coolwarm', annot = True)\n",
        "plt.xticks(rotation = 30)\n",
        "plt.show()"
      ],
      "execution_count": 16,
      "outputs": [
        {
          "output_type": "display_data",
          "data": {
            "image/png": "[encoded data removed]",
            "text/plain": [
              "<Figure size 1800x1080 with 2 Axes>"
            ]
          },
          "metadata": {
            "tags": []
          }
        }
      ]
    },
    {
      "cell_type": "code",
      "metadata": {
        "id": "1d1L3wqFoq3C"
      },
      "source": [
        "# grp = pre_df.groupby('store_nbr')\n",
        "# for name, subdf in grp:\n",
        "#     if name not in [77, 86, 88]:\n",
        "#         #it is a control store\n",
        "#         subdf\n",
        "#     else:\n",
        "#         # it is a trial store\n",
        "#         pass"
      ],
      "execution_count": null,
      "outputs": []
    },
    {
      "cell_type": "code",
      "metadata": {
        "id": "rM8-HcAYHZa2"
      },
      "source": [
        "pre_df.head()"
      ],
      "execution_count": null,
      "outputs": []
    },
    {
      "cell_type": "markdown",
      "metadata": {
        "id": "Q0TS64J4M1SB"
      },
      "source": [
        "'metrics_cols' are the features for correlation and ranking between trial stores and control stores."
      ]
    },
    {
      "cell_type": "code",
      "metadata": {
        "id": "xSC4p-U8bXmy"
      },
      "source": [
        "metrics_cols = ['store_nbr', 'year_month', 'yearly_sale',\n",
        "                'yearly_custs','monthly_sale', 'monthly_custs', 'avg_txn_per_cust']\n",
        "# metrics_data = pre_trial_data.loc[:, metrics_cols]"
      ],
      "execution_count": 17,
      "outputs": []
    },
    {
      "cell_type": "code",
      "metadata": {
        "id": "NcZ5ETi-Azim",
        "outputId": "39565152-7f20-4d7e-c904-80b10aece40f",
        "colab": {
          "base_uri": "https://localhost:8080/",
          "height": 235
        }
      },
      "source": [
        "metrics_df = pre_df.loc[:, metrics_cols].set_index(['store_nbr', 'year_month']).sort_values(by = ['store_nbr', 'year_month'])\n",
        "metrics_df.drop_duplicates(inplace = True, keep = 'first')\n",
        "metrics_df.head()"
      ],
      "execution_count": 18,
      "outputs": [
        {
          "output_type": "execute_result",
          "data": {
            "text/html": [
              "<div>\n",
              "<style scoped>\n",
              "    .dataframe tbody tr th:only-of-type {\n",
              "        vertical-align: middle;\n",
              "    }\n",
              "\n",
              "    .dataframe tbody tr th {\n",
              "        vertical-align: top;\n",
              "    }\n",
              "\n",
              "    .dataframe thead th {\n",
              "        text-align: right;\n",
              "    }\n",
              "</style>\n",
              "<table border=\"1\" class=\"dataframe\">\n",
              "  <thead>\n",
              "    <tr style=\"text-align: right;\">\n",
              "      <th></th>\n",
              "      <th></th>\n",
              "      <th>yearly_sale</th>\n",
              "      <th>yearly_custs</th>\n",
              "      <th>monthly_sale</th>\n",
              "      <th>monthly_custs</th>\n",
              "      <th>avg_txn_per_cust</th>\n",
              "    </tr>\n",
              "    <tr>\n",
              "      <th>store_nbr</th>\n",
              "      <th>year_month</th>\n",
              "      <th></th>\n",
              "      <th></th>\n",
              "      <th></th>\n",
              "      <th></th>\n",
              "      <th></th>\n",
              "    </tr>\n",
              "  </thead>\n",
              "  <tbody>\n",
              "    <tr>\n",
              "      <th rowspan=\"5\" valign=\"top\">1</th>\n",
              "      <th>2018-07</th>\n",
              "      <td>2237.3</td>\n",
              "      <td>335</td>\n",
              "      <td>191.6</td>\n",
              "      <td>48</td>\n",
              "      <td>1.608955</td>\n",
              "    </tr>\n",
              "    <tr>\n",
              "      <th>2018-08</th>\n",
              "      <td>2237.3</td>\n",
              "      <td>335</td>\n",
              "      <td>168.4</td>\n",
              "      <td>41</td>\n",
              "      <td>1.608955</td>\n",
              "    </tr>\n",
              "    <tr>\n",
              "      <th>2018-09</th>\n",
              "      <td>2237.3</td>\n",
              "      <td>335</td>\n",
              "      <td>268.1</td>\n",
              "      <td>57</td>\n",
              "      <td>1.608955</td>\n",
              "    </tr>\n",
              "    <tr>\n",
              "      <th>2018-10</th>\n",
              "      <td>2237.3</td>\n",
              "      <td>335</td>\n",
              "      <td>178.0</td>\n",
              "      <td>40</td>\n",
              "      <td>1.608955</td>\n",
              "    </tr>\n",
              "    <tr>\n",
              "      <th>2018-11</th>\n",
              "      <td>2237.3</td>\n",
              "      <td>335</td>\n",
              "      <td>187.5</td>\n",
              "      <td>45</td>\n",
              "      <td>1.608955</td>\n",
              "    </tr>\n",
              "  </tbody>\n",
              "</table>\n",
              "</div>"
            ],
            "text/plain": [
              "                      yearly_sale  yearly_custs  monthly_sale  monthly_custs  \\\n",
              "store_nbr year_month                                                           \n",
              "1         2018-07     2237.3       335           191.6         48              \n",
              "          2018-08     2237.3       335           168.4         41              \n",
              "          2018-09     2237.3       335           268.1         57              \n",
              "          2018-10     2237.3       335           178.0         40              \n",
              "          2018-11     2237.3       335           187.5         45              \n",
              "\n",
              "                      avg_txn_per_cust  \n",
              "store_nbr year_month                    \n",
              "1         2018-07     1.608955          \n",
              "          2018-08     1.608955          \n",
              "          2018-09     1.608955          \n",
              "          2018-10     1.608955          \n",
              "          2018-11     1.608955          "
            ]
          },
          "metadata": {
            "tags": []
          },
          "execution_count": 18
        }
      ]
    },
    {
      "cell_type": "code",
      "metadata": {
        "id": "bmRxJJV5wxIY"
      },
      "source": [
        "# metrics_df.xs('2018-09', level=1)"
      ],
      "execution_count": null,
      "outputs": []
    },
    {
      "cell_type": "code",
      "metadata": {
        "id": "akrGQK396PE_",
        "outputId": "0c8e14d7-db1f-4bfb-c1fa-60654973a9c4",
        "colab": {
          "base_uri": "https://localhost:8080/"
        }
      },
      "source": [
        "# metrics_df.index.get_level_values('year_month').nunique()"
      ],
      "execution_count": null,
      "outputs": [
        {
          "output_type": "execute_result",
          "data": {
            "text/plain": [
              "7"
            ]
          },
          "metadata": {
            "tags": []
          },
          "execution_count": 123
        }
      ]
    },
    {
      "cell_type": "markdown",
      "metadata": {
        "id": "-Xr4XWYfOg5c"
      },
      "source": [
        "Function to find correlation between trial stores and control stores one by one."
      ]
    },
    {
      "cell_type": "code",
      "metadata": {
        "id": "HP5WESGR8HkV"
      },
      "source": [
        "def calc_corr(trial_store):\n",
        "    '''\n",
        "    input: It takes one trial store to compare other stores with.\n",
        "    output: New dataframe with correlation and mean correlation.\n",
        "    '''\n",
        "    a=[]\n",
        "    metrics = metrics_df[['monthly_sale', 'monthly_custs']] \n",
        "    for i in metrics.index:\n",
        "        a.append(metrics.loc[trial_store].corrwith(metrics.loc[i[0]]))\n",
        "    subdf= pd.DataFrame(a)\n",
        "    subdf.index = metrics.index\n",
        "    subdf = subdf.drop_duplicates()\n",
        "    subdf.index=[s[0] for s in subdf.index]\n",
        "    subdf.index.name=\"store_nbr\"\n",
        "    subdf = subdf.abs()\n",
        "    subdf['mean_corr'] = subdf.mean(axis=1)\n",
        "    subdf.sort_values(by = 'mean_corr', ascending = False, inplace = True)\n",
        "    return subdf"
      ],
      "execution_count": 19,
      "outputs": []
    },
    {
      "cell_type": "markdown",
      "metadata": {
        "id": "wox4BlJcO-mS"
      },
      "source": [
        "## Correlation with trial store: 77"
      ]
    },
    {
      "cell_type": "code",
      "metadata": {
        "id": "fBQsyZU5OO_d",
        "outputId": "79b53759-01f7-4059-fa1b-96fc0d6a2ffe",
        "colab": {
          "base_uri": "https://localhost:8080/",
          "height": 235
        }
      },
      "source": [
        "corr_77 = calc_corr(77).drop(77)\n",
        "# corr_77 = corr_77.drop(77)\n",
        "corr_77.head(5)"
      ],
      "execution_count": 20,
      "outputs": [
        {
          "output_type": "execute_result",
          "data": {
            "text/html": [
              "<div>\n",
              "<style scoped>\n",
              "    .dataframe tbody tr th:only-of-type {\n",
              "        vertical-align: middle;\n",
              "    }\n",
              "\n",
              "    .dataframe tbody tr th {\n",
              "        vertical-align: top;\n",
              "    }\n",
              "\n",
              "    .dataframe thead th {\n",
              "        text-align: right;\n",
              "    }\n",
              "</style>\n",
              "<table border=\"1\" class=\"dataframe\">\n",
              "  <thead>\n",
              "    <tr style=\"text-align: right;\">\n",
              "      <th></th>\n",
              "      <th>monthly_sale</th>\n",
              "      <th>monthly_custs</th>\n",
              "      <th>mean_corr</th>\n",
              "    </tr>\n",
              "    <tr>\n",
              "      <th>store_nbr</th>\n",
              "      <th></th>\n",
              "      <th></th>\n",
              "      <th></th>\n",
              "    </tr>\n",
              "  </thead>\n",
              "  <tbody>\n",
              "    <tr>\n",
              "      <th>233</th>\n",
              "      <td>0.976651</td>\n",
              "      <td>0.964970</td>\n",
              "      <td>0.970811</td>\n",
              "    </tr>\n",
              "    <tr>\n",
              "      <th>119</th>\n",
              "      <td>0.836712</td>\n",
              "      <td>0.950144</td>\n",
              "      <td>0.893428</td>\n",
              "    </tr>\n",
              "    <tr>\n",
              "      <th>41</th>\n",
              "      <td>0.819951</td>\n",
              "      <td>0.842018</td>\n",
              "      <td>0.830985</td>\n",
              "    </tr>\n",
              "    <tr>\n",
              "      <th>254</th>\n",
              "      <td>0.690476</td>\n",
              "      <td>0.956769</td>\n",
              "      <td>0.823622</td>\n",
              "    </tr>\n",
              "    <tr>\n",
              "      <th>50</th>\n",
              "      <td>0.917940</td>\n",
              "      <td>0.724430</td>\n",
              "      <td>0.821185</td>\n",
              "    </tr>\n",
              "  </tbody>\n",
              "</table>\n",
              "</div>"
            ],
            "text/plain": [
              "           monthly_sale  monthly_custs  mean_corr\n",
              "store_nbr                                        \n",
              "233        0.976651      0.964970       0.970811 \n",
              "119        0.836712      0.950144       0.893428 \n",
              "41         0.819951      0.842018       0.830985 \n",
              "254        0.690476      0.956769       0.823622 \n",
              "50         0.917940      0.724430       0.821185 "
            ]
          },
          "metadata": {
            "tags": []
          },
          "execution_count": 20
        }
      ]
    },
    {
      "cell_type": "code",
      "metadata": {
        "id": "3pikNGS0olbh",
        "outputId": "47126e0f-96d3-49b2-9740-d50a99e90af9",
        "colab": {
          "base_uri": "https://localhost:8080/",
          "height": 468
        }
      },
      "source": [
        "corr_77[corr_77['mean_corr'].abs() > 0.7].plot(kind = 'bar', rot = 0)"
      ],
      "execution_count": 34,
      "outputs": [
        {
          "output_type": "execute_result",
          "data": {
            "text/plain": [
              "<matplotlib.axes._subplots.AxesSubplot at 0x7f6f55b040b8>"
            ]
          },
          "metadata": {
            "tags": []
          },
          "execution_count": 34
        },
        {
          "output_type": "display_data",
          "data": {
            "image/png": "[encoded data removed]",
            "text/plain": [
              "<Figure size 1296x504 with 1 Axes>"
            ]
          },
          "metadata": {
            "tags": []
          }
        }
      ]
    },
    {
      "cell_type": "code",
      "metadata": {
        "id": "VtYAQDnfvuPw"
      },
      "source": [
        ""
      ],
      "execution_count": null,
      "outputs": []
    },
    {
      "cell_type": "markdown",
      "metadata": {
        "id": "ELG07xwhPEld"
      },
      "source": [
        "## Correlation with trial store: 86"
      ]
    },
    {
      "cell_type": "code",
      "metadata": {
        "id": "WDR_MEZWPPwx",
        "outputId": "d817ca48-b483-4a3a-d104-534fc885900e",
        "colab": {
          "base_uri": "https://localhost:8080/",
          "height": 235
        }
      },
      "source": [
        "corr_86 = calc_corr(86).drop(86)\n",
        "corr_86.head()"
      ],
      "execution_count": 35,
      "outputs": [
        {
          "output_type": "execute_result",
          "data": {
            "text/html": [
              "<div>\n",
              "<style scoped>\n",
              "    .dataframe tbody tr th:only-of-type {\n",
              "        vertical-align: middle;\n",
              "    }\n",
              "\n",
              "    .dataframe tbody tr th {\n",
              "        vertical-align: top;\n",
              "    }\n",
              "\n",
              "    .dataframe thead th {\n",
              "        text-align: right;\n",
              "    }\n",
              "</style>\n",
              "<table border=\"1\" class=\"dataframe\">\n",
              "  <thead>\n",
              "    <tr style=\"text-align: right;\">\n",
              "      <th></th>\n",
              "      <th>monthly_sale</th>\n",
              "      <th>monthly_custs</th>\n",
              "      <th>mean_corr</th>\n",
              "    </tr>\n",
              "    <tr>\n",
              "      <th>store_nbr</th>\n",
              "      <th></th>\n",
              "      <th></th>\n",
              "      <th></th>\n",
              "    </tr>\n",
              "  </thead>\n",
              "  <tbody>\n",
              "    <tr>\n",
              "      <th>155</th>\n",
              "      <td>0.852169</td>\n",
              "      <td>0.824667</td>\n",
              "      <td>0.838418</td>\n",
              "    </tr>\n",
              "    <tr>\n",
              "      <th>114</th>\n",
              "      <td>0.797520</td>\n",
              "      <td>0.875624</td>\n",
              "      <td>0.836572</td>\n",
              "    </tr>\n",
              "    <tr>\n",
              "      <th>260</th>\n",
              "      <td>0.851237</td>\n",
              "      <td>0.805041</td>\n",
              "      <td>0.828139</td>\n",
              "    </tr>\n",
              "    <tr>\n",
              "      <th>56</th>\n",
              "      <td>0.795140</td>\n",
              "      <td>0.799344</td>\n",
              "      <td>0.797242</td>\n",
              "    </tr>\n",
              "    <tr>\n",
              "      <th>120</th>\n",
              "      <td>0.891578</td>\n",
              "      <td>0.606359</td>\n",
              "      <td>0.748968</td>\n",
              "    </tr>\n",
              "  </tbody>\n",
              "</table>\n",
              "</div>"
            ],
            "text/plain": [
              "           monthly_sale  monthly_custs  mean_corr\n",
              "store_nbr                                        \n",
              "155        0.852169      0.824667       0.838418 \n",
              "114        0.797520      0.875624       0.836572 \n",
              "260        0.851237      0.805041       0.828139 \n",
              "56         0.795140      0.799344       0.797242 \n",
              "120        0.891578      0.606359       0.748968 "
            ]
          },
          "metadata": {
            "tags": []
          },
          "execution_count": 35
        }
      ]
    },
    {
      "cell_type": "code",
      "metadata": {
        "id": "QhSq4dP0i37U",
        "outputId": "f8cdda6b-b09b-4337-8a8a-08f1e813855f",
        "colab": {
          "base_uri": "https://localhost:8080/",
          "height": 468
        }
      },
      "source": [
        "corr_86[corr_86['mean_corr'].abs() > 0.7].plot(kind = 'bar', rot = 0)"
      ],
      "execution_count": 36,
      "outputs": [
        {
          "output_type": "execute_result",
          "data": {
            "text/plain": [
              "<matplotlib.axes._subplots.AxesSubplot at 0x7f6f55f12d68>"
            ]
          },
          "metadata": {
            "tags": []
          },
          "execution_count": 36
        },
        {
          "output_type": "display_data",
          "data": {
            "image/png": "[encoded data removed]",
            "text/plain": [
              "<Figure size 1296x504 with 1 Axes>"
            ]
          },
          "metadata": {
            "tags": []
          }
        }
      ]
    },
    {
      "cell_type": "markdown",
      "metadata": {
        "id": "1W0q6ScPPKv9"
      },
      "source": [
        "## Correlation with trial store: 88"
      ]
    },
    {
      "cell_type": "code",
      "metadata": {
        "id": "KH-6DOBHDYBG",
        "outputId": "a3ae994a-1910-4dc9-d7de-81d069c9e85f",
        "colab": {
          "base_uri": "https://localhost:8080/",
          "height": 235
        }
      },
      "source": [
        "corr_88 = calc_corr(88).drop(88)\n",
        "corr_88.head()"
      ],
      "execution_count": 37,
      "outputs": [
        {
          "output_type": "execute_result",
          "data": {
            "text/html": [
              "<div>\n",
              "<style scoped>\n",
              "    .dataframe tbody tr th:only-of-type {\n",
              "        vertical-align: middle;\n",
              "    }\n",
              "\n",
              "    .dataframe tbody tr th {\n",
              "        vertical-align: top;\n",
              "    }\n",
              "\n",
              "    .dataframe thead th {\n",
              "        text-align: right;\n",
              "    }\n",
              "</style>\n",
              "<table border=\"1\" class=\"dataframe\">\n",
              "  <thead>\n",
              "    <tr style=\"text-align: right;\">\n",
              "      <th></th>\n",
              "      <th>monthly_sale</th>\n",
              "      <th>monthly_custs</th>\n",
              "      <th>mean_corr</th>\n",
              "    </tr>\n",
              "    <tr>\n",
              "      <th>store_nbr</th>\n",
              "      <th></th>\n",
              "      <th></th>\n",
              "      <th></th>\n",
              "    </tr>\n",
              "  </thead>\n",
              "  <tbody>\n",
              "    <tr>\n",
              "      <th>14</th>\n",
              "      <td>0.599664</td>\n",
              "      <td>0.975727</td>\n",
              "      <td>0.787695</td>\n",
              "    </tr>\n",
              "    <tr>\n",
              "      <th>141</th>\n",
              "      <td>0.718477</td>\n",
              "      <td>0.643611</td>\n",
              "      <td>0.681044</td>\n",
              "    </tr>\n",
              "    <tr>\n",
              "      <th>204</th>\n",
              "      <td>0.871969</td>\n",
              "      <td>0.458144</td>\n",
              "      <td>0.665057</td>\n",
              "    </tr>\n",
              "    <tr>\n",
              "      <th>1</th>\n",
              "      <td>0.846112</td>\n",
              "      <td>0.450833</td>\n",
              "      <td>0.648472</td>\n",
              "    </tr>\n",
              "    <tr>\n",
              "      <th>235</th>\n",
              "      <td>0.834842</td>\n",
              "      <td>0.430326</td>\n",
              "      <td>0.632584</td>\n",
              "    </tr>\n",
              "  </tbody>\n",
              "</table>\n",
              "</div>"
            ],
            "text/plain": [
              "           monthly_sale  monthly_custs  mean_corr\n",
              "store_nbr                                        \n",
              "14         0.599664      0.975727       0.787695 \n",
              "141        0.718477      0.643611       0.681044 \n",
              "204        0.871969      0.458144       0.665057 \n",
              "1          0.846112      0.450833       0.648472 \n",
              "235        0.834842      0.430326       0.632584 "
            ]
          },
          "metadata": {
            "tags": []
          },
          "execution_count": 37
        }
      ]
    },
    {
      "cell_type": "code",
      "metadata": {
        "id": "Sc6HYtfVi5Av",
        "outputId": "7d6adf81-7e2a-4d28-c6cb-ab6274f4b25d",
        "colab": {
          "base_uri": "https://localhost:8080/",
          "height": 468
        }
      },
      "source": [
        "corr_88[corr_88['mean_corr'].abs() > 0.6].plot(kind = 'bar', rot = 0)"
      ],
      "execution_count": 40,
      "outputs": [
        {
          "output_type": "execute_result",
          "data": {
            "text/plain": [
              "<matplotlib.axes._subplots.AxesSubplot at 0x7f6f55102358>"
            ]
          },
          "metadata": {
            "tags": []
          },
          "execution_count": 40
        },
        {
          "output_type": "display_data",
          "data": {
            "image/png": "[encoded data removed]",
            "text/plain": [
              "<Figure size 1296x504 with 1 Axes>"
            ]
          },
          "metadata": {
            "tags": []
          }
        }
      ]
    },
    {
      "cell_type": "code",
      "metadata": {
        "id": "s4hPD4m4j16P"
      },
      "source": [
        ""
      ],
      "execution_count": null,
      "outputs": []
    }
  ]
}